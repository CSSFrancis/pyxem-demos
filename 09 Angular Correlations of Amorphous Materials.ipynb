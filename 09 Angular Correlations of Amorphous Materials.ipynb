{
 "cells": [
  {
   "cell_type": "markdown",
   "metadata": {},
   "source": [
    "# Introduction\n",
    "\n",
    "\n"
   ]
  },
  {
   "cell_type": "markdown",
   "metadata": {},
   "source": [
    "This notebook demonstrates caclulating the angular correlation of diffraction patterns recorded from an amorphous (or crystalline) material.\n",
    "\n",
    "The dataset used for this demonstration is a 4-D STEM dataset of a PdNiP deposited thin film glass aquired using a DE-16 Camera and a 200keV FEI-Titan electron microscopt at 100 fps.  The probe size was ~2-nm and step size was .365 nm so there there is singificant probe overlap in the probe positions."
   ]
  },
  {
   "cell_type": "markdown",
   "metadata": {},
   "source": [
    "This functionality has been checked to run with pyxem-0.11.0 (May 2020). Bugs are always possible, do not trust the code blindly, and if you experience any issues please report them here: https://github.com/pyxem/pyxem-demos/issues"
   ]
  },
  {
   "cell_type": "markdown",
   "metadata": {},
   "source": [
    "# Contents"
   ]
  },
  {
   "cell_type": "code",
   "execution_count": 2,
   "metadata": {},
   "outputs": [
    {
     "name": "stdout",
     "output_type": "stream",
     "text": [
      "+----------------------------+---------------------+----------------------------+----------+\n",
      "|        signal_type         |       aliases       |         class name         | package  |\n",
      "+----------------------------+---------------------+----------------------------+----------+\n",
      "|        correlation         |                     |       Correlation2D        |  pyxem   |\n",
      "|     CorrelationSignal      |                     |     CorrelationSignal      |  empyer  |\n",
      "|            dpc             |                     |       DPCBaseSignal        |  pyxem   |\n",
      "|            dpc             |                     |        DPCSignal1D         |  pyxem   |\n",
      "|            dpc             |                     |        DPCSignal2D         |  pyxem   |\n",
      "|     DielectricFunction     | dielectric function |     DielectricFunction     | hyperspy |\n",
      "|        diffraction         |                     |       Diffraction1D        |  pyxem   |\n",
      "|        diffraction         |                     |       Diffraction2D        |  pyxem   |\n",
      "|     DiffractionSignal      |                     |     DiffractionSignal      |  empyer  |\n",
      "|    diffraction_variance    |                     |   DiffractionVariance1D    |  pyxem   |\n",
      "|    diffraction_variance    |                     |   DiffractionVariance2D    |  pyxem   |\n",
      "|    diffraction_vectors     |                     |     DiffractionVectors     |  pyxem   |\n",
      "|    diffraction_vectors     |                     |    DiffractionVectors2D    |  pyxem   |\n",
      "|        tensor_field        |                     |  DisplacementGradientMap   |  pyxem   |\n",
      "|          EDS_SEM           |                     |       EDSSEMSpectrum       | hyperspy |\n",
      "|          EDS_TEM           |                     |       EDSTEMSpectrum       | hyperspy |\n",
      "|            EELS            |       TEM EELS      |        EELSSpectrum        | hyperspy |\n",
      "|    electron_diffraction    |                     |   ElectronDiffraction1D    |  pyxem   |\n",
      "|    electron_diffraction    |                     |   ElectronDiffraction2D    |  pyxem   |\n",
      "|          EMSignal          |                     |          EmSignal          |  empyer  |\n",
      "|          hologram          |                     |       HologramImage        | hyperspy |\n",
      "| pair_distribution_function |                     | PairDistributionFunction1D |  pyxem   |\n",
      "|     polar_diffraction      |                     |     PolarDiffraction2D     |  pyxem   |\n",
      "|        PolarSignal         |                     |        PolarSignal         |  empyer  |\n",
      "|           power            |                     |          Power2D           |  pyxem   |\n",
      "|        PowerSignal         |                     |        PowerSignal         |  empyer  |\n",
      "|     reduced_intensity      |                     |     ReducedIntensity1D     |  pyxem   |\n",
      "|     template_matching      |                     |  TemplateMatchingResults   |  pyxem   |\n",
      "|      vector_matching       |                     |   VectorMatchingResults    |  pyxem   |\n",
      "|     virtual_dark_field     |                     |   VirtualDarkFieldImage    |  pyxem   |\n",
      "+----------------------------+---------------------+----------------------------+----------+\n"
     ]
    }
   ],
   "source": [
    "1. <a href='#loa'> Importing & Visualization</a>\n",
    "2. <a href='#s2'> Polar Reprojection</a>\n",
    "3. <a href='#s3'> Angular Correlation</a>\n",
    "4. <a href='#s4'> Power Spectrum and Correlation Maps</a>"
   ]
  },
  {
   "cell_type": "markdown",
   "metadata": {},
   "source": [
    "data_path = \"data/09/PdNiP_test.hspy\""
   ]
  },
  {
   "cell_type": "code",
   "execution_count": null,
   "metadata": {},
   "outputs": [],
   "source": [
    "%matplotlib qt\n",
    "import pyxem as pxm"
   ]
  },
  {
   "cell_type": "code",
   "execution_count": null,
   "metadata": {},
   "outputs": [],

   "source": [
    "data = pxm.load(\"./data/09/PdNiP_test.hspy\")"
   ]
  },
  {
   "cell_type": "markdown",
   "metadata": {},
   "source": [
    " #  <a id='s2'></a> 2 - Polar Reprojection\n",
    " \n",
    "This section deals with converting the signal to a polar signal.  This is probably the most important and difficult part of the analysis.  Even small distortions in the pattern or misinterpertation of the center of the diffraction pattern will negitively affect the ability to determine correlations.\n",
    "\n",
    "There is still some ongoing development on methods for identifying and correcting for these distortions but a good check is always to perform the correct and make sure that the first amorphous ring is a line after the polar reprojection.  In general your eye should be very good at identifying that.  Another thing to notice is that after the correlation if you have small splititing in all of your peaks(especially the self correlation) then most likely your center isn't completely correct."
   ]
  },
  {
   "cell_type": "code",
   "execution_count": null,
   "metadata": {},
   "outputs": [],
   "source": [
    "data.set_signal_type(\"electron_diffraction\")\n",
    "data.beam_energy=200\n",
    "data.unit = \"k_nm^-1\"\n",
    "data.set_ai(center=(31.77734804))\n",
    "rad = data.get_azimuthal_integral2d(npt=100)"
   ]
  },
  {
   "cell_type": "markdown",
   "metadata": {},
   "source": [
    "**Note:** This isn't perfect, as you can see there is still some distortion that an affine transformation could fix, but for the purposes of this demo this is sufficently good"
   ]
  },
  {
   "cell_type": "code",
   "execution_count": null,
   "metadata": {},
   "outputs": [],
   "source": [
    "rad.sum().plot()"
   ]
  },
  {
   "cell_type": "markdown",
   "metadata": {},
   "source": [
    " #  <a id='s3'></a> 3 - Angular Correlations\n",
    " \n",
    "This section deals with converting the signal to a correlation signal.  The most important part here is to properly mask the data.  This is important for example if you have a beam stop"
   ]
  },
  {
   "cell_type": "code",

   "execution_count": null,
   "metadata": {},
   "outputs": [],
   "source": [
    "import numpy as np\n",
    "mask = np.zeros((100,360), dtype=bool)"
   ]
  },
  {
   "cell_type": "code",
   "execution_count": null,
   "metadata": {},
   "outputs": [],
   "source": [
    "mask[0:20,:]=True\n",
    "mask[:,0:20]=True\n",
    "mask[:,-20:]=True"
   ]
  },
  {
   "cell_type": "code",
   "execution_count": null,
   "metadata": {},
   "outputs": [],
   "source": [
    "import matplotlib.pyplot as plt"
   ]
  },
  {
   "cell_type": "code",
   "execution_count": null,
   "metadata": {},
   "outputs": [],
   "source": [
    "plt.imshow(mask)\n",
    "plt.show()"
   ]
  },
  {
   "cell_type": "code",
   "execution_count": null,
   "metadata": {},
   "outputs": [],
   "source": [
    "cor = rad.get_angular_correlation(mask = mask)"
   ]
  },
  {
   "cell_type": "code",
   "execution_count": null,
   "metadata": {},
   "outputs": [],
   "source": [
    "cor.isig[:,3.0:5.0].plot()"
   ]
  },
  {
   "cell_type": "markdown",
   "metadata": {},
   "source": [
    " #  <a id='s4'></a> 4 - Power Spectrum and Correlation Maps\n",
    " \n",
    "This section deals with visualization of the correlations as correlation maps.  These are spatial maps of the strucutre in some material. "
   ]
  },
  {
   "cell_type": "code",
   "execution_count": null,
   "metadata": {},
   "outputs": [],
   "source": [
    "power = cor.get_angular_power()"
   ]
  },
  {
   "cell_type": "code",
   "execution_count": null,
   "metadata": {},
   "outputs": [],
   "source": [
    "f = plt.figure(figsize=(15,10))\n",
    "power.plot_symmetries(k_region = [3.5,5.0],fig=f)"
   ]
  },
  {
   "cell_type": "code",
   "execution_count": null,
   "metadata": {},
   "outputs": [],
   "source": []
  }
 ],
 "metadata": {
  "kernelspec": {
   "display_name": "Python 3",
   "language": "python",
   "name": "python3"
  },
  "language_info": {
   "codemirror_mode": {
    "name": "ipython",
    "version": 3
   },
   "file_extension": ".py",
   "mimetype": "text/x-python",
   "name": "python",
   "nbconvert_exporter": "python",
   "pygments_lexer": "ipython3",
   "version": "3.7.6"
  }
 },
 "nbformat": 4,
 "nbformat_minor": 2
}
