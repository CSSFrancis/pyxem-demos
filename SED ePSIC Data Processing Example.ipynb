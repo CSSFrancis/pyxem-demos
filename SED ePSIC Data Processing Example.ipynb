{
 "cells": [
  {
   "cell_type": "markdown",
   "metadata": {},
   "source": [
    "This tutorial demonstrates data processing steps specifically as applied to scanning electron diffraction (SED) datasets acquired at the Electron Physical Sciences Imaging Centre (ePSIC) using the Merlin-Medipix detector system installed on E02. Helfpul code snippets are provided to deal with the file structures and formats associated with this system."
   ]
  },
  {
   "cell_type": "markdown",
   "metadata": {},
   "source": [
    "# Change Log"
   ]
  },
  {
   "cell_type": "markdown",
   "metadata": {},
   "source": [
    "25/03/18 Duncan Johnstone - Developed for ePSIC HyperSpy Workshop"
   ]
  },
  {
   "cell_type": "markdown",
   "metadata": {},
   "source": [
    "# Requirements"
   ]
  },
  {
   "cell_type": "markdown",
   "metadata": {},
   "source": [
    "pyXem 0.5\n",
    "\n",
    "HyperSpy 1.3\n",
    "\n",
    "PyMatGen"
   ]
  },
  {
   "cell_type": "markdown",
   "metadata": {},
   "source": [
    "# Materials & Methods"
   ]
  },
  {
   "cell_type": "markdown",
   "metadata": {},
   "source": [
    "Data used in this useage example was acquired from a calibration standard Au cross-grating (Agar Scientific) "
   ]
  },
  {
   "cell_type": "markdown",
   "metadata": {},
   "source": [
    "# Contents"
   ]
  },
  {
   "cell_type": "markdown",
   "metadata": {},
   "source": [
    "1. <a href='#loa'> Loading & Data Conversion</a>\n",
    "2. <a href='#vdf'> Inspection & Virtual Diffraction Imaging</a>\n",
    "3. <a href='#vec'> Peak Finding & Vector Analysis</a>"
   ]
  },
  {
   "cell_type": "markdown",
   "metadata": {},
   "source": [
    "Import pyXem and other required libraries"
   ]
  },
  {
   "cell_type": "code",
   "execution_count": 1,
   "metadata": {},
   "outputs": [
    {
     "name": "stderr",
     "output_type": "stream",
     "text": [
      "WARNING:hyperspy.api:The ipywidgets GUI elements are not available, probably because the hyperspy_gui_ipywidgets package is not installed.\n",
      "WARNING:hyperspy.api:The traitsui GUI elements are not available, probably because the hyperspy_gui_traitui package is not installed.\n"
     ]
    }
   ],
   "source": [
    "%matplotlib tk\n",
    "import pyxem as pxm\n",
    "import numpy as np\n",
    "import os"
   ]
  },
  {
   "cell_type": "markdown",
   "metadata": {},
   "source": [
    "# <a id='loa'></a> 1. Loading and Data Conversion"
   ]
  },
  {
   "cell_type": "markdown",
   "metadata": {},
   "source": [
    "Create a list of file names for iteration by walking through timestamped directories"
   ]
  },
  {
   "cell_type": "code",
   "execution_count": 2,
   "metadata": {
    "collapsed": true
   },
   "outputs": [],
   "source": [
    "filenames = []\n",
    "for root, dirs, files in os.walk(\"./demo_mib_data/\"):\n",
    "    for file in files:\n",
    "        if file.endswith(\".hdr\"):\n",
    "             filenames.append(os.path.join(root, file))"
   ]
  },
  {
   "cell_type": "code",
   "execution_count": 6,
   "metadata": {},
   "outputs": [
    {
     "data": {
      "text/plain": [
       "['./demo_mib_data/20171210 112111/AuCalibration_10umCLap_15cmL_200kX_0_5.hdr',\n",
       " './demo_mib_data/20171210 111859/AuCalibration_10umCLap_15cmL_150kX_0_5.hdr']"
      ]
     },
     "execution_count": 6,
     "metadata": {},
     "output_type": "execute_result"
    }
   ],
   "source": [
    "filenames"
   ]
  },
  {
   "cell_type": "markdown",
   "metadata": {},
   "source": [
    "Define corresponding lists of calibration values based on experimental conditions"
   ]
  },
  {
   "cell_type": "code",
   "execution_count": null,
   "metadata": {
    "collapsed": true
   },
   "outputs": [],
   "source": []
  },
  {
   "cell_type": "markdown",
   "metadata": {},
   "source": [
    "Select the "
   ]
  },
  {
   "cell_type": "code",
   "execution_count": null,
   "metadata": {
    "collapsed": true
   },
   "outputs": [],
   "source": [
    "fname = filenames[0]\n",
    "tstamp = os.path.dirname(fname)[-6:]"
   ]
  },
  {
   "cell_type": "markdown",
   "metadata": {},
   "source": []
  },
  {
   "cell_type": "code",
   "execution_count": null,
   "metadata": {
    "collapsed": true
   },
   "outputs": [],
   "source": [
    "dp = pxm.load_mib(fname, scan_size=256)\n",
    "    #crop center\n",
    "    roi = pxm.roi.RectangularROI(left=103, top=103, right=153, bottom=153)\n",
    "    dpc = roi(dp, axes=dp.axes_manager.signal_axes)\n",
    "    #perform alignment\n",
    "    centers = dpc.get_direct_beam_position(sigma=3)\n",
    "    shifts = centers.data - np.array((25,25))\n",
    "    shifts = shifts.reshape(65025, 2)\n",
    "    dp.align2D(shifts=shifts, crop=False, fill_value=0)"
   ]
  },
  {
   "cell_type": "code",
   "execution_count": null,
   "metadata": {
    "collapsed": true
   },
   "outputs": [],
   "source": []
  },
  {
   "cell_type": "code",
   "execution_count": null,
   "metadata": {
    "collapsed": true
   },
   "outputs": [],
   "source": []
  },
  {
   "cell_type": "markdown",
   "metadata": {},
   "source": []
  },
  {
   "cell_type": "code",
   "execution_count": 4,
   "metadata": {},
   "outputs": [
    {
     "data": {
      "application/vnd.jupyter.widget-view+json": {
       "model_id": "6f95b70a7b2c414496418d334b2f4fae",
       "version_major": 2,
       "version_minor": 0
      },
      "text/plain": [
       "A Jupyter Widget"
      ]
     },
     "metadata": {},
     "output_type": "display_data"
    },
    {
     "data": {
      "application/vnd.jupyter.widget-view+json": {
       "model_id": "f6b6c8c8b1194d368c004a9c7938684e",
       "version_major": 2,
       "version_minor": 0
      },
      "text/plain": [
       "A Jupyter Widget"
      ]
     },
     "metadata": {},
     "output_type": "display_data"
    },
    {
     "name": "stdout",
     "output_type": "stream",
     "text": [
      "\n"
     ]
    },
    {
     "name": "stderr",
     "output_type": "stream",
     "text": [
      "Exception in thread Thread-5:\n",
      "Traceback (most recent call last):\n",
      "  File \"/home/hremadmin/anaconda3/lib/python3.6/threading.py\", line 916, in _bootstrap_inner\n",
      "    self.run()\n",
      "  File \"/home/hremadmin/anaconda3/lib/python3.6/site-packages/tqdm/_tqdm.py\", line 144, in run\n",
      "    for instance in self.tqdm_cls._instances:\n",
      "  File \"/home/hremadmin/anaconda3/lib/python3.6/_weakrefset.py\", line 60, in __iter__\n",
      "    for itemref in self.data:\n",
      "RuntimeError: Set changed size during iteration\n",
      "\n"
     ]
    },
    {
     "name": "stdout",
     "output_type": "stream",
     "text": [
      "\n"
     ]
    },
    {
     "data": {
      "application/vnd.jupyter.widget-view+json": {
       "model_id": "1ed95e2774224b46b1820023d2189a74",
       "version_major": 2,
       "version_minor": 0
      },
      "text/plain": [
       "A Jupyter Widget"
      ]
     },
     "metadata": {},
     "output_type": "display_data"
    },
    {
     "data": {
      "application/vnd.jupyter.widget-view+json": {
       "model_id": "9bf8fd5d3c6d4337b2bbf9bbe818b1a7",
       "version_major": 2,
       "version_minor": 0
      },
      "text/plain": [
       "A Jupyter Widget"
      ]
     },
     "metadata": {},
     "output_type": "display_data"
    },
    {
     "name": "stdout",
     "output_type": "stream",
     "text": [
      "\n"
     ]
    },
    {
     "name": "stderr",
     "output_type": "stream",
     "text": [
      "Exception in thread Thread-17:\n",
      "Traceback (most recent call last):\n",
      "  File \"/home/hremadmin/anaconda3/lib/python3.6/threading.py\", line 916, in _bootstrap_inner\n",
      "    self.run()\n",
      "  File \"/home/hremadmin/anaconda3/lib/python3.6/site-packages/tqdm/_tqdm.py\", line 144, in run\n",
      "    for instance in self.tqdm_cls._instances:\n",
      "  File \"/home/hremadmin/anaconda3/lib/python3.6/_weakrefset.py\", line 60, in __iter__\n",
      "    for itemref in self.data:\n",
      "RuntimeError: Set changed size during iteration\n",
      "\n"
     ]
    },
    {
     "name": "stdout",
     "output_type": "stream",
     "text": [
      "\n"
     ]
    }
   ],
   "source": [
    "i=0\n",
    "for fname in filenames:\n",
    "    tstamp = os.path.dirname(fname)[-6:]\n",
    "    #load data\n",
    "    dp = pxm.load_mib(fname, scan_size=256)\n",
    "    #crop center\n",
    "    roi = pxm.roi.RectangularROI(left=103, top=103, right=153, bottom=153)\n",
    "    dpc = roi(dp, axes=dp.axes_manager.signal_axes)\n",
    "    #perform alignment\n",
    "    centers = dpc.get_direct_beam_position(sigma=3)\n",
    "    shifts = centers.data - np.array((25,25))\n",
    "    shifts = shifts.reshape(65025, 2)\n",
    "    dp.align2D(shifts=shifts, crop=False, fill_value=0)\n",
    "    #set calibrations\n",
    "    dp.set_diffraction_calibration(0.00889)\n",
    "    dp.set_scan_calibration(5.0)\n",
    "    #save data\n",
    "    dp.save('./epsic_eg_' + tstamp)\n",
    "    #summed diffraction\n",
    "    dpeg = dp.sum((0,1))\n",
    "    dpeg.change_dtype('float32')\n",
    "    dpeg.save('./epsic_eg_dpeg_' + tstamp + '.tif')\n",
    "    #vbf image\n",
    "    circ = pxm.roi.CircleROI(cx=0, cy=0, r=10*0.00889)\n",
    "    vbf = dp.get_virtual_image(circ)\n",
    "    vbf = vbf.as_signal2D((0,1))\n",
    "    vbf.change_dtype('float32')\n",
    "    vbf.save('./epsic_eg_vbf_' + tstamp + '.tif')\n",
    "    #vdf image\n",
    "    ann = pxm.roi.CircleROI(cx=0, cy=0, r=100*0.00889, r_inner=50*0.00889)\n",
    "    vdf = dp.get_virtual_image(ann)\n",
    "    vdf = vdf.as_signal2D((0,1))\n",
    "    vdf.change_dtype('float32')\n",
    "    vdf.save('./epsic_eg_vdf_' + tstamp + '.tif')\n",
    "    i=i+1"
   ]
  },
  {
   "cell_type": "markdown",
   "metadata": {},
   "source": [
    "# 2. <a href='#vdf'></a> Inspection & Virtual Diffraction Imaging"
   ]
  },
  {
   "cell_type": "code",
   "execution_count": 5,
   "metadata": {
    "collapsed": true
   },
   "outputs": [],
   "source": [
    "dp = pxm.load('./epsic_eg_111859.hspy')"
   ]
  },
  {
   "cell_type": "code",
   "execution_count": null,
   "metadata": {
    "collapsed": true
   },
   "outputs": [],
   "source": []
  },
  {
   "cell_type": "code",
   "execution_count": null,
   "metadata": {
    "collapsed": true
   },
   "outputs": [],
   "source": []
  },
  {
   "cell_type": "code",
   "execution_count": null,
   "metadata": {
    "collapsed": true
   },
   "outputs": [],
   "source": []
  },
  {
   "cell_type": "markdown",
   "metadata": {},
   "source": [
    "# 3. <a href='#vec'> </a> Peak Finding & Vector Analysis"
   ]
  },
  {
   "cell_type": "code",
   "execution_count": null,
   "metadata": {
    "collapsed": true
   },
   "outputs": [],
   "source": []
  }
 ],
 "metadata": {
  "anaconda-cloud": {},
  "kernelspec": {
   "display_name": "Python 3",
   "language": "python",
   "name": "python3"
  },
  "language_info": {
   "codemirror_mode": {
    "name": "ipython",
    "version": 3
   },
   "file_extension": ".py",
   "mimetype": "text/x-python",
   "name": "python",
   "nbconvert_exporter": "python",
   "pygments_lexer": "ipython3",
   "version": "3.6.3"
  },
  "widgets": {
   "state": {},
   "version": "1.1.2"
  }
 },
 "nbformat": 4,
 "nbformat_minor": 1
}
