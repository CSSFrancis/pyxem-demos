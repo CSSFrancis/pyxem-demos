{
 "cells": [
  {
   "cell_type": "markdown",
   "metadata": {},
   "source": [
    "This notebook demonstrates strain mapping using both of the methods implemented in pyXem."
   ]
  },
  {
   "cell_type": "markdown",
   "metadata": {},
   "source": [
    "## Requirements"
   ]
  },
  {
   "cell_type": "markdown",
   "metadata": {},
   "source": [
    "pyXem with https://github.com/pyxem/pyxem/pull/336 merged. Beyond Feb 1st 2019 should work"
   ]
  },
  {
   "cell_type": "markdown",
   "metadata": {},
   "source": [
    "# Contents"
   ]
  },
  {
   "cell_type": "markdown",
   "metadata": {},
   "source": [
    "4. <a href='#loa'> Simulate Strain Test Data</a>\n",
    "5. <a href='#str'> Strain Mapping as Image Affine Transform</a>\n",
    "6. <a href='#str'> Strain Mapping as Image Affine Transform</a>"
   ]
  },
  {
   "cell_type": "markdown",
   "metadata": {},
   "source": [
    "Import pyXem and other required libraries"
   ]
  },
  {
   "cell_type": "code",
   "execution_count": null,
   "metadata": {},
   "outputs": [],
   "source": [
    "%matplotlib tk\n",
    "import pyxem as pxm\n",
    "import numpy as np\n",
    "import hyperspy.api as hs\n",
    "import diffpy.structure\n",
    "from matplotlib import pyplot as plt\n",
    "from pyxem.generators.indexation_generator import IndexationGenerator"
   ]
  },
  {
   "cell_type": "markdown",
   "metadata": {},
   "source": [
    "## <a id='loa'></a> 4. Simulate Strain Test Data"
   ]
  },
  {
   "cell_type": "markdown",
   "metadata": {},
   "source": [
    "If you have data ready to go you can skip this section. We start by defining a crystal structure"
   ]
  },
  {
   "cell_type": "code",
   "execution_count": null,
   "metadata": {},
   "outputs": [],
   "source": [
    "#An atomic structure represented using diffpy\n",
    "latt = diffpy.structure.lattice.Lattice(3,3,5,90,90,90)\n",
    "atom = diffpy.structure.atom.Atom(atype='Ni',xyz=[0,0,0],lattice=latt)\n",
    "hexagonal_structure = diffpy.structure.Structure(atoms=[atom],lattice=latt)"
   ]
  },
  {
   "cell_type": "markdown",
   "metadata": {},
   "source": [
    "We now perform our (virtual) diffraction experiment to create a single pattern"
   ]
  },
  {
   "cell_type": "code",
   "execution_count": null,
   "metadata": {},
   "outputs": [],
   "source": [
    "ediff = pxm.DiffractionGenerator(300., 0.025)\n",
    "diffraction = ediff.calculate_ed_data(hexagonal_structure, reciprocal_radius=5.)\n",
    "pattern = diffraction.as_signal(128,0.05,1).data"
   ]
  },
  {
   "cell_type": "code",
   "execution_count": null,
   "metadata": {},
   "outputs": [],
   "source": [
    "plt.imshow(pattern)"
   ]
  },
  {
   "cell_type": "markdown",
   "metadata": {},
   "source": [
    "and a deformed pattern, so we can see the effect of a real space change"
   ]
  },
  {
   "cell_type": "code",
   "execution_count": null,
   "metadata": {},
   "outputs": [],
   "source": [
    "latt = diffpy.structure.lattice.Lattice(3+0.12,3+0.12,3,90,90,90)\n",
    "atom = diffpy.structure.atom.Atom(atype='Ni',xyz=[0,0,0],lattice=latt)\n",
    "hexagonal_structure_d = diffpy.structure.Structure(atoms=[atom],lattice=latt)\n",
    "diffractiond = ediff.calculate_ed_data(hexagonal_structure_d, reciprocal_radius=5.)\n",
    "patternd = diffractiond.as_signal(128,0.05,1).data"
   ]
  },
  {
   "cell_type": "markdown",
   "metadata": {},
   "source": [
    "Four copies of this pattern are made, and strained by different amounts (note we conduct the deformation in reciprocal space here to keep the code volume down)"
   ]
  },
  {
   "cell_type": "code",
   "execution_count": null,
   "metadata": {},
   "outputs": [],
   "source": [
    "dp = pxm.ElectronDiffraction((np.asarray([[pattern,patternd],[pattern,pattern]])))\n",
    "\n",
    "x_l = []\n",
    "for x in [0, 0, -0.01, 0.02]:\n",
    "    x_s = np.eye(3)\n",
    "    x_s[0,0] += x\n",
    "    x_l.append(x_s)\n",
    "\n",
    "angles = hs.signals.Signal2D(np.asarray(x_l).reshape(2,2,3,3))\n",
    "dp = dp.apply_affine_transformation(D=angles,order=5,inplace=False)\n",
    "dp.set_diffraction_calibration(1)"
   ]
  },
  {
   "cell_type": "code",
   "execution_count": null,
   "metadata": {},
   "outputs": [],
   "source": [
    "%matplotlib tk\n",
    "dp.plot(cmap='magma')"
   ]
  },
  {
   "cell_type": "markdown",
   "metadata": {},
   "source": [
    "And this data is ready to be worked on!"
   ]
  },
  {
   "cell_type": "markdown",
   "metadata": {},
   "source": [
    "## <a id='loa'></a> 5. Perform Strain Mapping with an affine transform method"
   ]
  },
  {
   "cell_type": "markdown",
   "metadata": {},
   "source": [
    "Create a model to the data which comprises a distorted version of a reference (unstrained) diffraction pattern at each probe position."
   ]
  },
  {
   "cell_type": "code",
   "execution_count": null,
   "metadata": {},
   "outputs": [],
   "source": [
    "from pyxem.components.scalable_reference_pattern import ScalableReferencePattern"
   ]
  },
  {
   "cell_type": "code",
   "execution_count": null,
   "metadata": {},
   "outputs": [],
   "source": [
    "m = dp.create_model()\n",
    "ref = ScalableReferencePattern(dp.inav[0,0])\n",
    "m.append(ref)"
   ]
  },
  {
   "cell_type": "markdown",
   "metadata": {},
   "source": [
    "Print the affine transform values associated with the distorted diffraction pattern before fitting."
   ]
  },
  {
   "cell_type": "code",
   "execution_count": null,
   "metadata": {},
   "outputs": [],
   "source": [
    "m.print_current_values()"
   ]
  },
  {
   "cell_type": "markdown",
   "metadata": {},
   "source": [
    "Perform fitting"
   ]
  },
  {
   "cell_type": "code",
   "execution_count": null,
   "metadata": {},
   "outputs": [],
   "source": [
    "m.multifit()"
   ]
  },
  {
   "cell_type": "markdown",
   "metadata": {},
   "source": [
    "Construct the displacement graident tensor at each pixel from the fitting results"
   ]
  },
  {
   "cell_type": "code",
   "execution_count": null,
   "metadata": {},
   "outputs": [],
   "source": [
    "disp_grad = ref.construct_displacement_gradient()"
   ]
  },
  {
   "cell_type": "markdown",
   "metadata": {},
   "source": [
    "Perform (right) polar decomposition on the displacement gradient tensor to get rotation matrix, R, and strain matrix, U, at each pixel."
   ]
  },
  {
   "cell_type": "code",
   "execution_count": null,
   "metadata": {},
   "outputs": [],
   "source": [
    "R, U = disp_grad.polar_decomposition()"
   ]
  },
  {
   "cell_type": "markdown",
   "metadata": {},
   "source": [
    "Get a strain map and plot it."
   ]
  },
  {
   "cell_type": "code",
   "execution_count": null,
   "metadata": {},
   "outputs": [],
   "source": [
    "strain_map = disp_grad.get_strain_maps()\n",
    "strain_map.plot(cmap='PiYG',vmax=0.04,vmin=-0.04)"
   ]
  },
  {
   "cell_type": "markdown",
   "metadata": {},
   "source": [
    "## <a id='loa'></a> 6. Perform Strain Mapping with a spot tracking method"
   ]
  },
  {
   "cell_type": "code",
   "execution_count": null,
   "metadata": {},
   "outputs": [],
   "source": [
    "from pyxem.generators.subpixelrefinement_generator import SubpixelrefinementGenerator\n",
    "from pyxem.signals.tensor_field import *\n",
    "from pyxem.generators.displacement_gradient_tensor_generator import *"
   ]
  },
  {
   "cell_type": "markdown",
   "metadata": {},
   "source": [
    "We start by finding the two peaks, this can be done with other peak finding methods, or by inspection (as here), although we must calibrate the signal for this"
   ]
  },
  {
   "cell_type": "code",
   "execution_count": null,
   "metadata": {},
   "outputs": [],
   "source": [
    "dp.plot()\n",
    "\n",
    "#help(get_DisplacementGradientMap) #this is sometimes useful to read for conventions\n",
    "\n",
    "x_peak = [24,0]\n",
    "y_peak = [0,-42]"
   ]
  },
  {
   "cell_type": "markdown",
   "metadata": {},
   "source": [
    "We need to find these peaks (in each pattern) at subpixel precision"
   ]
  },
  {
   "cell_type": "code",
   "execution_count": null,
   "metadata": {},
   "outputs": [],
   "source": [
    "spg = SubpixelrefinementGenerator(dp,np.asarray([x_peak,y_peak]))\n",
    "Vs = spg.center_of_mass_method(6)"
   ]
  },
  {
   "cell_type": "markdown",
   "metadata": {},
   "source": [
    "And with these objects (deformed and undeformed peaks) we are off to the races"
   ]
  },
  {
   "cell_type": "code",
   "execution_count": null,
   "metadata": {},
   "outputs": [],
   "source": [
    "D = get_DisplacementGradientMap(hs.signals.Signal2D(Vs), Vs[0,0])"
   ]
  },
  {
   "cell_type": "code",
   "execution_count": null,
   "metadata": {},
   "outputs": [],
   "source": [
    "strain_map = D.get_strain_maps()"
   ]
  },
  {
   "cell_type": "code",
   "execution_count": null,
   "metadata": {},
   "outputs": [],
   "source": [
    "strain_map.plot(cmap='seismic',vmax=0.04,vmin=-0.04)"
   ]
  }
 ],
 "metadata": {
  "anaconda-cloud": {},
  "kernelspec": {
   "display_name": "Python 3",
   "language": "python",
   "name": "python3"
  },
  "language_info": {
   "codemirror_mode": {
    "name": "ipython",
    "version": 3
   },
   "file_extension": ".py",
   "mimetype": "text/x-python",
   "name": "python",
   "nbconvert_exporter": "python",
   "pygments_lexer": "ipython3",
   "version": "3.6.7"
  },
  "widgets": {
   "state": {
    "280e931f7b274209a009d92f04098e5c": {
     "views": [
      {
       "cell_index": 54
      }
     ]
    },
    "3d704cd8716e4cb1bf00a7c4e9fe1330": {
     "views": [
      {
       "cell_index": 34
      }
     ]
    },
    "477fdf6035284f3ca253bc694d701370": {
     "views": [
      {
       "cell_index": 24
      }
     ]
    },
    "48d9b9d421a14ddc9e73f084d5fc5e37": {
     "views": [
      {
       "cell_index": 30
      }
     ]
    },
    "635d08b3b596415ab27d7bed3b684f91": {
     "views": [
      {
       "cell_index": 48
      }
     ]
    },
    "64f45a95642f400ea7d3bed5fecff420": {
     "views": [
      {
       "cell_index": 52
      }
     ]
    },
    "7618040a46fc4203b76648a4d1383a11": {
     "views": [
      {
       "cell_index": 28
      }
     ]
    },
    "bb0e63a793d34b2bb255c5dca59a5aa3": {
     "views": [
      {
       "cell_index": 54
      }
     ]
    }
   },
   "version": "1.2.0"
  }
 },
 "nbformat": 4,
 "nbformat_minor": 1
}
