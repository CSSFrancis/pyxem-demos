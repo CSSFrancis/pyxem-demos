{
 "cells": [
  {
   "cell_type": "markdown",
   "metadata": {},
   "source": [
    "# Intro, Imaging & Machine Learning in PyCrystEM\n",
    "\n",
    "PyCrystEM is an open-source library for crystallographic electron microscopy. Multi-dimensional data processing tools build on the HyperSpy library.\n",
    "\n",
    "This notebook demonstrates the use of PyCrystEM to: form so called 'virtual diffraction images' by plotting the diffracted intensity in a particular pixel in the reciprocal space images, learn the component patterns making up the data using machine learning techniques, and perform data enhancement as a pre-processing step for further analysis such as indexation and orientation mapping. "
   ]
  },
  {
   "cell_type": "markdown",
   "metadata": {},
   "source": [
    "## Change Log"
   ]
  },
  {
   "cell_type": "markdown",
   "metadata": {},
   "source": [
    "22/03/18 Duncan Johnstone & Phillip Crout - Updated for ePSIC Hyperspy Workshop\n",
    "\n",
    "08/06/17 Duncan Johnstone - Developed for Trondheim Diffraction Workshop"
   ]
  },
  {
   "cell_type": "markdown",
   "metadata": {},
   "source": [
    "# Requirements"
   ]
  },
  {
   "cell_type": "markdown",
   "metadata": {},
   "source": [
    "pyXem 0.5\n",
    "\n",
    "HyperSpy 1.3\n",
    "\n",
    "PyMatGen"
   ]
  },
  {
   "cell_type": "markdown",
   "metadata": {},
   "source": [
    "## Contents"
   ]
  },
  {
   "cell_type": "markdown",
   "metadata": {},
   "source": [
    "1. <a href='#loa'> Loading & Inspection</a>\n",
    "2. <a href='#cal'> Alignment & Calibration</a>\n",
    "3. <a href='#vdf'> Virtual Diffraction Imaging</a>\n",
    "4. <a href='#ml'> Machine Learning SPED Data</a>\n",
    "5. <a href='#vec'> Peak Finding & Vector Analysis</a>\n",
    "6. <a href='#ori'> Orientation Mapping</a>"
   ]
  },
  {
   "cell_type": "markdown",
   "metadata": {},
   "source": [
    "Import pyXem"
   ]
  },
  {
   "cell_type": "code",
   "execution_count": 1,
   "metadata": {},
   "outputs": [
    {
     "name": "stderr",
     "output_type": "stream",
     "text": [
      "WARNING:hyperspy.api:The ipywidgets GUI elements are not available, probably because the hyperspy_gui_ipywidgets package is not installed.\n",
      "WARNING:hyperspy.api:The traitsui GUI elements are not available, probably because the hyperspy_gui_traitui package is not installed.\n"
     ]
    }
   ],
   "source": [
    "%matplotlib tk\n",
    "import pyxem as pxm"
   ]
  },
  {
   "cell_type": "markdown",
   "metadata": {},
   "source": [
    "## <a id='loa'></a> 1. Loading and Inspection"
   ]
  },
  {
   "cell_type": "markdown",
   "metadata": {},
   "source": [
    "Load the SPED data acquired from the nanowire"
   ]
  },
  {
   "cell_type": "code",
   "execution_count": 2,
   "metadata": {},
   "outputs": [],
   "source": [
    "dp = pxm.load('/home/hremadmin/nanowire_precession.hdf5')\n",
    "dp = pxm.ElectronDiffraction(dp)"
   ]
  },
  {
   "cell_type": "markdown",
   "metadata": {},
   "source": [
    "Look at what kind of object 'dp' is"
   ]
  },
  {
   "cell_type": "code",
   "execution_count": 3,
   "metadata": {},
   "outputs": [
    {
     "data": {
      "text/plain": [
       "<ElectronDiffraction, title: , dimensions: (30, 100|144, 144)>"
      ]
     },
     "execution_count": 3,
     "metadata": {},
     "output_type": "execute_result"
    }
   ],
   "source": [
    "dp"
   ]
  },
  {
   "cell_type": "markdown",
   "metadata": {},
   "source": [
    "Inspect the metadata associated with the object 'dp'"
   ]
  },
  {
   "cell_type": "code",
   "execution_count": 4,
   "metadata": {},
   "outputs": [
    {
     "data": {
      "text/plain": [
       "├── General\n",
       "│   └── title = \n",
       "└── Signal\n",
       "    ├── binned = False\n",
       "    └── signal_type = electron_diffraction"
      ]
     },
     "execution_count": 4,
     "metadata": {},
     "output_type": "execute_result"
    }
   ],
   "source": [
    "dp.metadata"
   ]
  },
  {
   "cell_type": "markdown",
   "metadata": {},
   "source": [
    "Set important experimental parameters using the built in function"
   ]
  },
  {
   "cell_type": "code",
   "execution_count": 5,
   "metadata": {
    "collapsed": true
   },
   "outputs": [],
   "source": [
    "dp.set_experimental_parameters(accelerating_voltage=300.,\n",
    "                               camera_length=21.,\n",
    "                               scan_rotation=277.,\n",
    "                               convergence_angle=0.7,\n",
    "                               exposure_time=10.)"
   ]
  },
  {
   "cell_type": "markdown",
   "metadata": {},
   "source": [
    "See how this changed the metadata"
   ]
  },
  {
   "cell_type": "code",
   "execution_count": 6,
   "metadata": {},
   "outputs": [
    {
     "data": {
      "text/plain": [
       "├── Acquisition_instrument\n",
       "│   └── TEM\n",
       "│       ├── Detector\n",
       "│       │   └── Diffraction\n",
       "│       │       ├── camera_length = 21.0\n",
       "│       │       └── exposure_time = 10.0\n",
       "│       ├── accelerating_voltage = 300.0\n",
       "│       ├── convergence_angle = 0.7\n",
       "│       └── scan_rotation = 277.0\n",
       "├── General\n",
       "│   └── title = \n",
       "└── Signal\n",
       "    ├── binned = False\n",
       "    └── signal_type = electron_diffraction"
      ]
     },
     "execution_count": 6,
     "metadata": {},
     "output_type": "execute_result"
    }
   ],
   "source": [
    "dp.metadata"
   ]
  },
  {
   "cell_type": "markdown",
   "metadata": {},
   "source": [
    "Set another metadata item and check it"
   ]
  },
  {
   "cell_type": "code",
   "execution_count": 7,
   "metadata": {},
   "outputs": [
    {
     "data": {
      "text/plain": [
       "├── Acquisition_instrument\n",
       "│   └── TEM\n",
       "│       ├── Detector\n",
       "│       │   └── Diffraction\n",
       "│       │       ├── camera_length = 21.0\n",
       "│       │       └── exposure_time = 10.0\n",
       "│       ├── accelerating_voltage = 300.0\n",
       "│       ├── convergence_angle = 0.7\n",
       "│       └── scan_rotation = 277.0\n",
       "├── General\n",
       "│   └── title = GaAs Nanowire\n",
       "└── Signal\n",
       "    ├── binned = False\n",
       "    └── signal_type = electron_diffraction"
      ]
     },
     "execution_count": 7,
     "metadata": {},
     "output_type": "execute_result"
    }
   ],
   "source": [
    "dp.metadata.set_item(\"General.title\", 'GaAs Nanowire')\n",
    "dp.metadata"
   ]
  },
  {
   "cell_type": "markdown",
   "metadata": {},
   "source": [
    "Plot the data to inspect it"
   ]
  },
  {
   "cell_type": "code",
   "execution_count": 8,
   "metadata": {
    "collapsed": true
   },
   "outputs": [],
   "source": [
    "dp.plot()"
   ]
  },
  {
   "cell_type": "markdown",
   "metadata": {},
   "source": [
    "Set the diffraction pattern calibration"
   ]
  },
  {
   "cell_type": "code",
   "execution_count": 9,
   "metadata": {
    "collapsed": true
   },
   "outputs": [],
   "source": [
    "dp.set_diffraction_calibration(0.0035)\n",
    "dp.set_scan_calibration(10)"
   ]
  },
  {
   "cell_type": "markdown",
   "metadata": {},
   "source": [
    "Plot the data with the new calibration"
   ]
  },
  {
   "cell_type": "code",
   "execution_count": 10,
   "metadata": {
    "collapsed": true
   },
   "outputs": [],
   "source": [
    "dp.plot()"
   ]
  },
  {
   "cell_type": "markdown",
   "metadata": {},
   "source": [
    "## <a id='cal'></a> 2. Alignment & Calibration"
   ]
  },
  {
   "cell_type": "markdown",
   "metadata": {},
   "source": [
    "Many diffraction pattern analyses depend on knowing the location of the center of the diffraction pattern. It's easiest if this is in the center of the data array and if any shifts throughout a scan are corrected before any further work is done. Alignment and centering should therefore be done before anything else."
   ]
  },
  {
   "cell_type": "code",
   "execution_count": null,
   "metadata": {
    "collapsed": true
   },
   "outputs": [],
   "source": []
  },
  {
   "cell_type": "markdown",
   "metadata": {},
   "source": [
    "## <a id='vdf'></a> 3. Virtual Diffraction Imaging"
   ]
  },
  {
   "cell_type": "markdown",
   "metadata": {},
   "source": [
    "Plot an interactive virtual image integrating intensity within a circular subset of pixels in the diffraction pattern"
   ]
  },
  {
   "cell_type": "code",
   "execution_count": 11,
   "metadata": {},
   "outputs": [],
   "source": [
    "roi = pxm.roi.CircleROI(cx=0.,cy=0, r_inner=0, r=0.02)\n",
    "dp.plot_interactive_virtual_image(roi=roi)"
   ]
  },
  {
   "cell_type": "markdown",
   "metadata": {},
   "source": [
    "Get the virtual diffraction image associated with the last integration window used interactively"
   ]
  },
  {
   "cell_type": "code",
   "execution_count": 12,
   "metadata": {
    "collapsed": true
   },
   "outputs": [],
   "source": [
    "vdf=dp.get_virtual_image(roi)"
   ]
  },
  {
   "cell_type": "markdown",
   "metadata": {},
   "source": [
    "Plot the virtual dark-field image"
   ]
  },
  {
   "cell_type": "code",
   "execution_count": 14,
   "metadata": {
    "collapsed": true
   },
   "outputs": [],
   "source": [
    "vdf.plot()"
   ]
  },
  {
   "cell_type": "markdown",
   "metadata": {},
   "source": [
    "Save the virtual dark-field image as a 32bit tif"
   ]
  },
  {
   "cell_type": "code",
   "execution_count": 15,
   "metadata": {
    "collapsed": true
   },
   "outputs": [],
   "source": [
    "vdf.change_dtype('float32')\n",
    "vdf.save('vdfeg.tif')"
   ]
  },
  {
   "cell_type": "markdown",
   "metadata": {},
   "source": [
    "Plot the data with an adjustable marker indicating where to crop the scan region"
   ]
  },
  {
   "cell_type": "code",
   "execution_count": 18,
   "metadata": {},
   "outputs": [
    {
     "data": {
      "text/plain": [
       "<hyperspy.drawing._widgets.rectangles.RectangleWidget at 0x7f155ca36cf8>"
      ]
     },
     "execution_count": 18,
     "metadata": {},
     "output_type": "execute_result"
    }
   ],
   "source": [
    "reg = pxm.roi.RectangularROI(left=50, top=50, right=100, bottom=100)\n",
    "dp.plot()\n",
    "reg.add_widget(dp)"
   ]
  },
  {
   "cell_type": "markdown",
   "metadata": {
    "collapsed": true
   },
   "source": [
    "Crop the dataset based on the region defined above"
   ]
  },
  {
   "cell_type": "code",
   "execution_count": 19,
   "metadata": {
    "collapsed": true
   },
   "outputs": [],
   "source": [
    "dpc = reg(dp)"
   ]
  },
  {
   "cell_type": "code",
   "execution_count": 20,
   "metadata": {},
   "outputs": [
    {
     "data": {
      "text/plain": [
       "<ElectronDiffraction, title: GaAs Nanowire, dimensions: (24, 24|144, 144)>"
      ]
     },
     "execution_count": 20,
     "metadata": {},
     "output_type": "execute_result"
    }
   ],
   "source": [
    "dpc"
   ]
  },
  {
   "cell_type": "markdown",
   "metadata": {},
   "source": [
    "# <a id='ml'></a> 4. Unsupervised learning"
   ]
  },
  {
   "cell_type": "markdown",
   "metadata": {},
   "source": [
    "Perform singular value decomposition (SVD) of the data"
   ]
  },
  {
   "cell_type": "code",
   "execution_count": 21,
   "metadata": {
    "collapsed": true
   },
   "outputs": [],
   "source": [
    "dpc.change_dtype('float')\n",
    "dpc.decomposition(True, algorithm='svd')"
   ]
  },
  {
   "cell_type": "markdown",
   "metadata": {},
   "source": [
    "Obtain a \"Scree plot\" by plotting the fraction of variance described by each principal component"
   ]
  },
  {
   "cell_type": "code",
   "execution_count": 22,
   "metadata": {},
   "outputs": [
    {
     "data": {
      "text/plain": [
       "<matplotlib.axes._subplots.AxesSubplot at 0x7f1556c32860>"
      ]
     },
     "execution_count": 22,
     "metadata": {},
     "output_type": "execute_result"
    }
   ],
   "source": [
    "dpc.plot_explained_variance_ratio()"
   ]
  },
  {
   "cell_type": "markdown",
   "metadata": {},
   "source": [
    "Plot the decomposition results and have a look at them"
   ]
  },
  {
   "cell_type": "code",
   "execution_count": 23,
   "metadata": {},
   "outputs": [
    {
     "name": "stderr",
     "output_type": "stream",
     "text": [
      "WARNING:hyperspy.drawing.mpl_he:Navigation sliders not available. No toolkit registered. Install hyperspy_gui_ipywidgets or hyperspy_gui_traitsui GUI elements. If hyperspy_gui_traitsis installed, initialize a toolkit supported by traitsui before importing HyperSpy.\n"
     ]
    }
   ],
   "source": [
    "dpc.plot_decomposition_results()"
   ]
  },
  {
   "cell_type": "markdown",
   "metadata": {},
   "source": [
    "Perform non-negative matrix factorisation (NMF)"
   ]
  },
  {
   "cell_type": "code",
   "execution_count": 24,
   "metadata": {
    "collapsed": true
   },
   "outputs": [],
   "source": [
    "dpc.decomposition(True, algorithm='nmf', output_dimension=3)"
   ]
  },
  {
   "cell_type": "markdown",
   "metadata": {},
   "source": [
    "Plot the NMF results"
   ]
  },
  {
   "cell_type": "code",
   "execution_count": 25,
   "metadata": {},
   "outputs": [
    {
     "name": "stderr",
     "output_type": "stream",
     "text": [
      "WARNING:hyperspy.drawing.mpl_he:Navigation sliders not available. No toolkit registered. Install hyperspy_gui_ipywidgets or hyperspy_gui_traitsui GUI elements. If hyperspy_gui_traitsis installed, initialize a toolkit supported by traitsui before importing HyperSpy.\n"
     ]
    }
   ],
   "source": [
    "dpc.plot_decomposition_results()"
   ]
  },
  {
   "cell_type": "markdown",
   "metadata": {},
   "source": [
    "# Pattern enhancement & Background Subtraction"
   ]
  },
  {
   "cell_type": "markdown",
   "metadata": {},
   "source": [
    "Perform a background subtraction by radially integrating the 2D diffraction pattern and fitting a model containing a lorentzian, exponential and linear function"
   ]
  },
  {
   "cell_type": "code",
   "execution_count": null,
   "metadata": {
    "collapsed": true
   },
   "outputs": [],
   "source": [
    "dp.remove_background(1).plot()"
   ]
  },
  {
   "cell_type": "markdown",
   "metadata": {},
   "source": [
    "Obtain a radially integrated diffraction profile and plot it"
   ]
  },
  {
   "cell_type": "code",
   "execution_count": null,
   "metadata": {
    "collapsed": true
   },
   "outputs": [],
   "source": [
    "rp = dp.get_radial_profile()\n",
    "rp.plot()"
   ]
  },
  {
   "cell_type": "markdown",
   "metadata": {},
   "source": [
    "# <a id='vec'></a> 5. Peak Finding & Vector Analysis"
   ]
  },
  {
   "cell_type": "markdown",
   "metadata": {},
   "source": [
    "Interactively tune peak finding parameters"
   ]
  },
  {
   "cell_type": "code",
   "execution_count": 33,
   "metadata": {},
   "outputs": [
    {
     "data": {
      "application/vnd.jupyter.widget-view+json": {
       "model_id": "8cb3e6b56d5d44b28d4a7281ddd37ed4",
       "version_major": 2,
       "version_minor": 0
      },
      "text/plain": [
       "A Jupyter Widget"
      ]
     },
     "metadata": {},
     "output_type": "display_data"
    },
    {
     "data": {
      "application/vnd.jupyter.widget-view+json": {
       "model_id": "8ec84da588b041ff90e8a51216ea8932",
       "version_major": 2,
       "version_minor": 0
      },
      "text/plain": [
       "A Jupyter Widget"
      ]
     },
     "metadata": {},
     "output_type": "display_data"
    },
    {
     "data": {
      "application/vnd.jupyter.widget-view+json": {
       "model_id": "09719d5004e9459b83b79843e2528065",
       "version_major": 2,
       "version_minor": 0
      },
      "text/plain": [
       "A Jupyter Widget"
      ]
     },
     "metadata": {},
     "output_type": "display_data"
    }
   ],
   "source": [
    "dp.find_peaks_interactive()"
   ]
  },
  {
   "cell_type": "markdown",
   "metadata": {},
   "source": [
    "Perform peak finding on all diffraction patterns in data"
   ]
  },
  {
   "cell_type": "code",
   "execution_count": 34,
   "metadata": {},
   "outputs": [
    {
     "data": {
      "application/vnd.jupyter.widget-view+json": {
       "model_id": "e693c32f5d094fa78de52af70387bf9e",
       "version_major": 2,
       "version_minor": 0
      },
      "text/plain": [
       "A Jupyter Widget"
      ]
     },
     "metadata": {},
     "output_type": "display_data"
    },
    {
     "name": "stderr",
     "output_type": "stream",
     "text": [
      "WARNING:hyperspy.signal:The function you applied does not take into account the difference of units and of scales in-between axes.\n"
     ]
    },
    {
     "name": "stdout",
     "output_type": "stream",
     "text": [
      "\n"
     ]
    },
    {
     "data": {
      "application/vnd.jupyter.widget-view+json": {
       "model_id": "9477460914974f878f12cab3091752c0",
       "version_major": 2,
       "version_minor": 0
      },
      "text/plain": [
       "A Jupyter Widget"
      ]
     },
     "metadata": {},
     "output_type": "display_data"
    },
    {
     "name": "stdout",
     "output_type": "stream",
     "text": [
      "\n"
     ]
    }
   ],
   "source": [
    "peaks = dp.find_peaks()"
   ]
  },
  {
   "cell_type": "markdown",
   "metadata": {},
   "source": [
    "Check the peaks object"
   ]
  },
  {
   "cell_type": "code",
   "execution_count": 35,
   "metadata": {},
   "outputs": [
    {
     "data": {
      "text/plain": [
       "<DiffractionVectors, title: , dimensions: (30, 100|)>"
      ]
     },
     "execution_count": 35,
     "metadata": {},
     "output_type": "execute_result"
    }
   ],
   "source": [
    "peaks"
   ]
  },
  {
   "cell_type": "markdown",
   "metadata": {},
   "source": [
    "Look at what's in the peaks object"
   ]
  },
  {
   "cell_type": "code",
   "execution_count": 36,
   "metadata": {},
   "outputs": [
    {
     "data": {
      "text/plain": [
       "array([[ array([[ 0.245 ,  0.2415],\n",
       "       [ 0.245 ,  0.238 ],\n",
       "       [ 0.245 ,  0.1995],\n",
       "       ..., \n",
       "       [-0.2485, -0.112 ],\n",
       "       [-0.2485, -0.1225],\n",
       "       [-0.2485, -0.168 ]]),\n",
       "        array([[ 0.245 ,  0.238 ],\n",
       "       [ 0.245 ,  0.168 ],\n",
       "       [ 0.245 ,  0.133 ],\n",
       "       ..., \n",
       "       [-0.2485, -0.196 ],\n",
       "       [-0.2485, -0.21  ],\n",
       "       [-0.2485, -0.2345]]),\n",
       "        array([[ 0.245 ,  0.196 ],\n",
       "       [ 0.245 ,  0.168 ],\n",
       "       [ 0.245 ,  0.126 ],\n",
       "       ..., \n",
       "       [-0.2485, -0.2135],\n",
       "       [-0.2485, -0.2275],\n",
       "       [-0.2485, -0.2485]]),\n",
       "        ...,\n",
       "        array([[ 0.245 ,  0.2135],\n",
       "       [ 0.245 ,  0.1785],\n",
       "       [ 0.245 ,  0.1645],\n",
       "       ..., \n",
       "       [-0.2485, -0.203 ],\n",
       "       [-0.2485, -0.2135],\n",
       "       [-0.2485, -0.2345]]),\n",
       "        array([[ 0.245 ,  0.2345],\n",
       "       [ 0.245 ,  0.2135],\n",
       "       [ 0.245 ,  0.203 ],\n",
       "       ..., \n",
       "       [-0.2485, -0.203 ],\n",
       "       [-0.2485, -0.217 ],\n",
       "       [-0.2485, -0.2485]]),\n",
       "        array([[ 0.245 ,  0.217 ],\n",
       "       [ 0.245 ,  0.182 ],\n",
       "       [ 0.245 ,  0.1645],\n",
       "       ..., \n",
       "       [-0.2485, -0.1855],\n",
       "       [-0.2485, -0.2345],\n",
       "       [-0.2485, -0.2415]])],\n",
       "       [ array([[ 0.245 ,  0.238 ],\n",
       "       [ 0.245 ,  0.21  ],\n",
       "       [ 0.245 ,  0.196 ],\n",
       "       ..., \n",
       "       [-0.2485, -0.1855],\n",
       "       [-0.2485, -0.231 ],\n",
       "       [-0.2485, -0.238 ]]),\n",
       "        array([[ 0.245 ,  0.2275],\n",
       "       [ 0.245 ,  0.175 ],\n",
       "       [ 0.245 ,  0.154 ],\n",
       "       ..., \n",
       "       [-0.2485, -0.2135],\n",
       "       [-0.2485, -0.2205],\n",
       "       [-0.2485, -0.238 ]]),\n",
       "        array([[ 0.245 ,  0.245 ],\n",
       "       [ 0.245 ,  0.231 ],\n",
       "       [ 0.245 ,  0.224 ],\n",
       "       ..., \n",
       "       [-0.2485, -0.1995],\n",
       "       [-0.2485, -0.217 ],\n",
       "       [-0.2485, -0.2345]]),\n",
       "        ...,\n",
       "        array([[ 0.245 ,  0.2415],\n",
       "       [ 0.245 ,  0.231 ],\n",
       "       [ 0.245 ,  0.217 ],\n",
       "       ..., \n",
       "       [-0.2485, -0.196 ],\n",
       "       [-0.2485, -0.21  ],\n",
       "       [-0.2485, -0.224 ]]),\n",
       "        array([[ 0.245 ,  0.231 ],\n",
       "       [ 0.245 ,  0.1925],\n",
       "       [ 0.245 ,  0.112 ],\n",
       "       ..., \n",
       "       [-0.2485, -0.1715],\n",
       "       [-0.2485, -0.2205],\n",
       "       [-0.2485, -0.2275]]),\n",
       "        array([[ 0.245 ,  0.245 ],\n",
       "       [ 0.245 ,  0.1785],\n",
       "       [ 0.245 ,  0.168 ],\n",
       "       ..., \n",
       "       [-0.2485, -0.1155],\n",
       "       [-0.2485, -0.147 ],\n",
       "       [-0.2485, -0.196 ]])],\n",
       "       [ array([[ 0.245 ,  0.21  ],\n",
       "       [ 0.245 ,  0.1855],\n",
       "       [ 0.245 ,  0.154 ],\n",
       "       ..., \n",
       "       [-0.2485, -0.0665],\n",
       "       [-0.2485, -0.189 ],\n",
       "       [-0.2485, -0.21  ]]),\n",
       "        array([[ 0.245 ,  0.245 ],\n",
       "       [ 0.245 ,  0.189 ],\n",
       "       [ 0.245 ,  0.1855],\n",
       "       ..., \n",
       "       [-0.2485, -0.182 ],\n",
       "       [-0.2485, -0.189 ],\n",
       "       [-0.2485, -0.2205]]),\n",
       "        array([[ 0.245 ,  0.2345],\n",
       "       [ 0.245 ,  0.2275],\n",
       "       [ 0.245 ,  0.2205],\n",
       "       ..., \n",
       "       [-0.2485, -0.1715],\n",
       "       [-0.2485, -0.1785],\n",
       "       [-0.2485, -0.196 ]]),\n",
       "        ...,\n",
       "        array([[ 0.245 ,  0.203 ],\n",
       "       [ 0.245 ,  0.1435],\n",
       "       [ 0.245 ,  0.1295],\n",
       "       ..., \n",
       "       [-0.2485, -0.224 ],\n",
       "       [-0.2485, -0.2345],\n",
       "       [-0.2485, -0.2485]]),\n",
       "        array([[ 0.245 ,  0.224 ],\n",
       "       [ 0.245 ,  0.2135],\n",
       "       [ 0.245 ,  0.1575],\n",
       "       ..., \n",
       "       [-0.2485, -0.217 ],\n",
       "       [-0.2485, -0.2345],\n",
       "       [-0.2485, -0.245 ]]),\n",
       "        array([[ 0.245 ,  0.231 ],\n",
       "       [ 0.245 ,  0.217 ],\n",
       "       [ 0.245 ,  0.1925],\n",
       "       ..., \n",
       "       [-0.2485, -0.1435],\n",
       "       [-0.2485, -0.1715],\n",
       "       [-0.2485, -0.245 ]])],\n",
       "       ..., \n",
       "       [ array([[ 0.245 ,  0.196 ],\n",
       "       [ 0.245 ,  0.175 ],\n",
       "       [ 0.245 ,  0.1645],\n",
       "       ..., \n",
       "       [-0.2485, -0.1085],\n",
       "       [-0.2485, -0.1785],\n",
       "       [-0.2485, -0.1925]]),\n",
       "        array([[ 0.245 ,  0.245 ],\n",
       "       [ 0.245 ,  0.203 ],\n",
       "       [ 0.245 ,  0.196 ],\n",
       "       ..., \n",
       "       [-0.2485, -0.1505],\n",
       "       [-0.2485, -0.231 ],\n",
       "       [-0.2485, -0.238 ]]),\n",
       "        array([[ 0.245 ,  0.245 ],\n",
       "       [ 0.245 ,  0.2345],\n",
       "       [ 0.245 ,  0.2205],\n",
       "       ..., \n",
       "       [-0.2485, -0.1435],\n",
       "       [-0.2485, -0.1715],\n",
       "       [-0.2485, -0.1785]]),\n",
       "        ...,\n",
       "        array([[ 0.245 ,  0.189 ],\n",
       "       [ 0.245 ,  0.1715],\n",
       "       [ 0.245 ,  0.1505],\n",
       "       ..., \n",
       "       [-0.2485, -0.1995],\n",
       "       [-0.2485, -0.2065],\n",
       "       [-0.2485, -0.238 ]]),\n",
       "        array([[ 0.245 ,  0.2415],\n",
       "       [ 0.245 ,  0.2345],\n",
       "       [ 0.245 ,  0.21  ],\n",
       "       ..., \n",
       "       [-0.2485, -0.1995],\n",
       "       [-0.2485, -0.238 ],\n",
       "       [-0.2485, -0.245 ]]),\n",
       "        array([[ 0.245 ,  0.2415],\n",
       "       [ 0.245 ,  0.1365],\n",
       "       [ 0.245 ,  0.126 ],\n",
       "       ..., \n",
       "       [-0.2485, -0.168 ],\n",
       "       [-0.2485, -0.175 ],\n",
       "       [-0.2485, -0.231 ]])],\n",
       "       [ array([[ 0.245 ,  0.238 ],\n",
       "       [ 0.245 ,  0.2275],\n",
       "       [ 0.245 ,  0.182 ],\n",
       "       ..., \n",
       "       [-0.2485, -0.182 ],\n",
       "       [-0.2485, -0.1925],\n",
       "       [-0.2485, -0.2205]]),\n",
       "        array([[ 0.245 ,  0.2065],\n",
       "       [ 0.245 ,  0.182 ],\n",
       "       [ 0.245 ,  0.154 ],\n",
       "       ..., \n",
       "       [-0.2485, -0.2205],\n",
       "       [-0.2485, -0.2275],\n",
       "       [-0.2485, -0.238 ]]),\n",
       "        array([[ 0.245 ,  0.2135],\n",
       "       [ 0.245 ,  0.1295],\n",
       "       [ 0.245 ,  0.1155],\n",
       "       ..., \n",
       "       [-0.2485, -0.175 ],\n",
       "       [-0.2485, -0.2135],\n",
       "       [-0.2485, -0.2205]]),\n",
       "        ...,\n",
       "        array([[ 0.245 ,  0.2275],\n",
       "       [ 0.245 ,  0.203 ],\n",
       "       [ 0.245 ,  0.196 ],\n",
       "       ..., \n",
       "       [-0.2485, -0.224 ],\n",
       "       [-0.2485, -0.238 ],\n",
       "       [-0.2485, -0.2485]]),\n",
       "        array([[ 0.245 ,  0.2345],\n",
       "       [ 0.245 ,  0.224 ],\n",
       "       [ 0.245 ,  0.203 ],\n",
       "       ..., \n",
       "       [-0.2485, -0.2065],\n",
       "       [-0.2485, -0.2135],\n",
       "       [-0.2485, -0.238 ]]),\n",
       "        array([[ 0.245 ,  0.245 ],\n",
       "       [ 0.245 ,  0.196 ],\n",
       "       [ 0.245 ,  0.14  ],\n",
       "       ..., \n",
       "       [-0.2485, -0.1855],\n",
       "       [-0.2485, -0.217 ],\n",
       "       [-0.2485, -0.2485]])],\n",
       "       [ array([[ 0.245 ,  0.2345],\n",
       "       [ 0.245 ,  0.224 ],\n",
       "       [ 0.245 ,  0.189 ],\n",
       "       ..., \n",
       "       [-0.2485, -0.21  ],\n",
       "       [-0.2485, -0.224 ],\n",
       "       [-0.2485, -0.245 ]]),\n",
       "        array([[ 0.245 ,  0.238 ],\n",
       "       [ 0.245 ,  0.224 ],\n",
       "       [ 0.245 ,  0.21  ],\n",
       "       ..., \n",
       "       [-0.2485, -0.168 ],\n",
       "       [-0.2485, -0.21  ],\n",
       "       [-0.2485, -0.217 ]]),\n",
       "        array([[ 0.245 ,  0.2415],\n",
       "       [ 0.245 ,  0.1995],\n",
       "       [ 0.245 ,  0.1925],\n",
       "       ..., \n",
       "       [-0.2485, -0.1995],\n",
       "       [-0.2485, -0.2345],\n",
       "       [-0.2485, -0.238 ]]),\n",
       "        ...,\n",
       "        array([[ 0.245 ,  0.2135],\n",
       "       [ 0.245 ,  0.168 ],\n",
       "       [ 0.245 ,  0.1085],\n",
       "       ..., \n",
       "       [-0.2485, -0.1505],\n",
       "       [-0.2485, -0.2065],\n",
       "       [-0.2485, -0.21  ]]),\n",
       "        array([[ 0.245 ,  0.238 ],\n",
       "       [ 0.245 ,  0.2275],\n",
       "       [ 0.245 ,  0.217 ],\n",
       "       ..., \n",
       "       [-0.2485, -0.2205],\n",
       "       [-0.2485, -0.231 ],\n",
       "       [-0.2485, -0.238 ]]),\n",
       "        array([[ 0.245 ,  0.182 ],\n",
       "       [ 0.245 ,  0.1365],\n",
       "       [ 0.245 ,  0.1295],\n",
       "       ..., \n",
       "       [-0.2485, -0.203 ],\n",
       "       [-0.2485, -0.21  ],\n",
       "       [-0.2485, -0.2205]])]], dtype=object)"
      ]
     },
     "execution_count": 36,
     "metadata": {},
     "output_type": "execute_result"
    }
   ],
   "source": [
    "peaks.data"
   ]
  },
  {
   "cell_type": "code",
   "execution_count": null,
   "metadata": {
    "collapsed": true
   },
   "outputs": [],
   "source": []
  },
  {
   "cell_type": "markdown",
   "metadata": {
    "collapsed": true
   },
   "source": [
    "# <a id='ori'></a> 6. Orientation Mapping"
   ]
  },
  {
   "cell_type": "code",
   "execution_count": 41,
   "metadata": {},
   "outputs": [],
   "source": [
    "import numpy as np\n",
    "import pymatgen as pmg\n",
    "from pyxem.utils.sim_utils import equispaced_so3_grid"
   ]
  },
  {
   "cell_type": "markdown",
   "metadata": {},
   "source": [
    "Build crystal structure"
   ]
  },
  {
   "cell_type": "code",
   "execution_count": 42,
   "metadata": {},
   "outputs": [],
   "source": [
    "Ga = pmg.Element(\"Ga\")\n",
    "As = pmg.Element(\"As\")\n",
    "lattice = pmg.Lattice.cubic(5.6535)"
   ]
  },
  {
   "cell_type": "code",
   "execution_count": 43,
   "metadata": {
    "collapsed": true
   },
   "outputs": [],
   "source": [
    "structure = pmg.Structure.from_spacegroup(\"F23\",lattice, [Ga,As], [[0, 0, 0],[0.25,0.25,0.25]])"
   ]
  },
  {
   "cell_type": "markdown",
   "metadata": {},
   "source": [
    "Set up diffraction simulator and library generator"
   ]
  },
  {
   "cell_type": "code",
   "execution_count": 44,
   "metadata": {
    "collapsed": true
   },
   "outputs": [],
   "source": [
    "edc = pxm.DiffractionGenerator(300, 5e-2)\n",
    "diff_gen = pxm.DiffractionLibraryGenerator(edc)"
   ]
  },
  {
   "cell_type": "code",
   "execution_count": 45,
   "metadata": {},
   "outputs": [],
   "source": [
    "recip_d_111 = np.sqrt((3/5.6535**2))"
   ]
  },
  {
   "cell_type": "markdown",
   "metadata": {},
   "source": []
  },
  {
   "cell_type": "code",
   "execution_count": 46,
   "metadata": {},
   "outputs": [
    {
     "name": "stderr",
     "output_type": "stream",
     "text": [
      "                                                    \r"
     ]
    }
   ],
   "source": [
    "rot_list = equispaced_so3_grid(90,180,90,5)\n",
    "struc_lib = dict()\n",
    "struc_lib[\"A\"] = (structure,rot_list)\n",
    "library = diff_gen.get_diffraction_library(struc_lib,\n",
    "                                            calibration=recip_d_111/11.4,\n",
    "                                            reciprocal_radius=0.75,\n",
    "                                            half_shape=(72,72),\n",
    "                                            representation='euler',\n",
    "                                            with_direct_beam=False)"
   ]
  },
  {
   "cell_type": "code",
   "execution_count": null,
   "metadata": {
    "collapsed": true
   },
   "outputs": [],
   "source": []
  },
  {
   "cell_type": "code",
   "execution_count": null,
   "metadata": {
    "collapsed": true
   },
   "outputs": [],
   "source": [
    "indexer = IndexationGenerator(dp, library)\n",
    "match_results = indexer.correlate()"
   ]
  }
 ],
 "metadata": {
  "anaconda-cloud": {},
  "kernelspec": {
   "display_name": "Python 3",
   "language": "python",
   "name": "python3"
  },
  "language_info": {
   "codemirror_mode": {
    "name": "ipython",
    "version": 3
   },
   "file_extension": ".py",
   "mimetype": "text/x-python",
   "name": "python",
   "nbconvert_exporter": "python",
   "pygments_lexer": "ipython3",
   "version": "3.6.3"
  },
  "widgets": {
   "state": {
    "129b93d3ba954eb992d51fbf1e9b155e": {
     "views": [
      {
       "cell_index": 57
      }
     ]
    },
    "2ab3842519c3455592db5c834d2e33d8": {
     "views": [
      {
       "cell_index": 57
      }
     ]
    },
    "4033f1e346fd446bb8112a0ab4c1852d": {
     "views": [
      {
       "cell_index": 57
      }
     ]
    },
    "4316c6dbe2df4359be7a8af660609743": {
     "views": [
      {
       "cell_index": 61
      }
     ]
    },
    "449d4a42101d4fc79c6b6203b974695a": {
     "views": [
      {
       "cell_index": 59
      }
     ]
    },
    "48c6dfcccf1840baa54fa734f34c8f51": {
     "views": [
      {
       "cell_index": 57
      }
     ]
    },
    "5bf055ba0910450084cb44f31ff8a2eb": {
     "views": [
      {
       "cell_index": 61
      }
     ]
    },
    "bcb00cf357ee479ba389e9d19aa21bc5": {
     "views": [
      {
       "cell_index": 61
      }
     ]
    },
    "c2b0145b674c42988487114076efc891": {
     "views": [
      {
       "cell_index": 57
      }
     ]
    },
    "c77915d7befa4215a8ca901c6f8a82e5": {
     "views": [
      {
       "cell_index": 57
      }
     ]
    },
    "da3f026a56564b6195cb500d77e5e13a": {
     "views": [
      {
       "cell_index": 63
      }
     ]
    },
    "dfc7d3578ffb4ab79dc72e22be3f6255": {
     "views": [
      {
       "cell_index": 63
      }
     ]
    },
    "fb5ae80c36384f049ed13c49801cd8f6": {
     "views": [
      {
       "cell_index": 57
      }
     ]
    }
   },
   "version": "1.2.0"
  }
 },
 "nbformat": 4,
 "nbformat_minor": 1
}
