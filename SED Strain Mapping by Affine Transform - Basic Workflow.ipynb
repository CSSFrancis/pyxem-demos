{
 "cells": [
  {
   "cell_type": "markdown",
   "metadata": {},
   "source": [
    "This notebook demonstrates strain mapping using the image affine transform method implemented in pyXem."
   ]
  },
  {
   "cell_type": "markdown",
   "metadata": {},
   "source": [
    "# Change Log"
   ]
  },
  {
   "cell_type": "markdown",
   "metadata": {},
   "source": [
    "30/03/18 Duncan Johnstone - Updated for pyXem framework\n",
    "\n",
    "08/06/17 Duncan Johnstone - Developed for Trondheim Diffraction Workshop"
   ]
  },
  {
   "cell_type": "markdown",
   "metadata": {},
   "source": [
    "## Requirements"
   ]
  },
  {
   "cell_type": "markdown",
   "metadata": {},
   "source": [
    "pyXem 0.5\n",
    "\n",
    "HyperSpy 1.4\n",
    "\n",
    "PyMatGen"
   ]
  },
  {
   "cell_type": "markdown",
   "metadata": {},
   "source": [
    "# Contents"
   ]
  },
  {
   "cell_type": "markdown",
   "metadata": {},
   "source": [
    "1. <a href='#sim'> Simulate Strain Model Data</a>\n",
    "2. <a href='#str'> Strain Mapping as Image Affine Transform</a>"
   ]
  },
  {
   "cell_type": "markdown",
   "metadata": {},
   "source": [
    "Import pyXem and other required libraries"
   ]
  },
  {
   "cell_type": "code",
   "execution_count": 13,
   "metadata": {},
   "outputs": [],
   "source": [
    "%matplotlib tk\n",
    "import pyxem as pxm\n",
    "\n",
    "import numpy as np\n",
    "import pymatgen as pmg\n",
    "\n",
    "from pyxem.generators.indexation_generator import IndexationGenerator\n",
    "from pyxem.components.scalable_reference_pattern import ScalableReferencePattern\n",
    "\n",
    "from scipy.constants import pi"
   ]
  },
  {
   "cell_type": "markdown",
   "metadata": {},
   "source": [
    "## <a id='loa'></a> 4. Simulate Strain Test Data"
   ]
  },
  {
   "cell_type": "markdown",
   "metadata": {},
   "source": [
    "Define silicon crystal structure"
   ]
  },
  {
   "cell_type": "code",
   "execution_count": 7,
   "metadata": {},
   "outputs": [],
   "source": [
    "si = pmg.Element(\"Si\")\n",
    "lattice = pmg.Lattice.cubic(5.431)\n",
    "structure = pmg.Structure.from_spacegroup(\"Fd-3m\",lattice, [si], [[0, 0, 0]])\n",
    "ediff = pxm.DiffractionGenerator(300., 0.025)"
   ]
  },
  {
   "cell_type": "markdown",
   "metadata": {},
   "source": [
    "Define a series of affine transformations from 0-2%, apply these to the crystal structure and simulate the diffraction in each case."
   ]
  },
  {
   "cell_type": "code",
   "execution_count": 9,
   "metadata": {},
   "outputs": [],
   "source": [
    "from pymatgen.transformations.standard_transformations import DeformStructureTransformation\n",
    "\n",
    "affines = [[[1, 0, 0], [0, 1, 0], [0, 0,  1]],\n",
    "           [[1.002, 0, 0], [0, 1, 0], [0, 0,  1]],\n",
    "           [[1.004, 0, 0], [0, 1, 0], [0, 0,  1]],\n",
    "           [[1.006, 0, 0], [0, 1, 0], [0, 0,  1]],\n",
    "           [[1.008, 0, 0], [0, 1, 0], [0, 0,  1]],\n",
    "           [[1.01, 0, 0], [0, 1, 0], [0, 0,  1]],\n",
    "           [[1.012, 0, 0], [0, 1, 0], [0, 0,  1]],\n",
    "           [[1.014, 0, 0], [0, 1, 0], [0, 0,  1]],\n",
    "           [[1.016, 0, 0], [0, 1, 0], [0, 0,  1]],\n",
    "           [[1.018, 0, 0], [0, 1, 0], [0, 0,  1]],\n",
    "           [[1.02, 0, 0], [0, 1, 0], [0, 0,  1]]]\n",
    "\n",
    "data = []\n",
    "for affine in affines:\n",
    "    deform = DeformStructureTransformation(affine)\n",
    "    strained = deform.apply_transformation(structure)\n",
    "    diff_dat = ediff.calculate_ed_data(strained, 2.5)\n",
    "    dpi = diff_dat.as_signal(512, 0.02, 2.5)\n",
    "    data.append(dpi.data)\n",
    "strain_series = pxm.ElectronDiffraction(data)\n",
    "\n",
    "#stack multiple versions of tilt series together so that you have repeats of measurements for error analysis\n",
    "dp = hs.stack((strain_series, strain_series, strain_series, strain_series, strain_series, strain_series, strain_series, strain_series, strain_series, strain_series))"
   ]
  },
  {
   "cell_type": "markdown",
   "metadata": {},
   "source": [
    "Plot the test data to see what it looks like."
   ]
  },
  {
   "cell_type": "code",
   "execution_count": 10,
   "metadata": {
    "collapsed": true
   },
   "outputs": [],
   "source": [
    "dp.plot()"
   ]
  },
  {
   "cell_type": "markdown",
   "metadata": {},
   "source": [
    "## <a id='loa'></a> 5. Perform Strain Mapping"
   ]
  },
  {
   "cell_type": "markdown",
   "metadata": {},
   "source": [
    "Create a model to the data which comprises a distorted version of a reference (unstrained) diffraction pattern at each probe position."
   ]
  },
  {
   "cell_type": "code",
   "execution_count": 14,
   "metadata": {},
   "outputs": [],
   "source": [
    "m = dp.create_model()\n",
    "ref = ScalableReferencePattern(dp.inav[0,0])\n",
    "m.append(ref)"
   ]
  },
  {
   "cell_type": "markdown",
   "metadata": {},
   "source": [
    "Print the affine transform values associated with the distorted diffraction pattern before fitting."
   ]
  },
  {
   "cell_type": "code",
   "execution_count": 15,
   "metadata": {},
   "outputs": [
    {
     "name": "stdout",
     "output_type": "stream",
     "text": [
      "Components\tParameter\tValue\n",
      "ScalableReferencePattern\n",
      "\t\td11\t1\n",
      "\t\td12\t0\n",
      "\t\td21\t0\n",
      "\t\td22\t1\n",
      "\t\tt1\t0\n",
      "\t\tt2\t0\n"
     ]
    }
   ],
   "source": [
    "m.print_current_values()"
   ]
  },
  {
   "cell_type": "markdown",
   "metadata": {},
   "source": [
    "Perform fitting"
   ]
  },
  {
   "cell_type": "code",
   "execution_count": 16,
   "metadata": {},
   "outputs": [
    {
     "data": {
      "application/vnd.jupyter.widget-view+json": {
       "model_id": "8b56acf7c4674d2fa369fa20177ad7b3",
       "version_major": 2,
       "version_minor": 0
      },
      "text/plain": [
       "A Jupyter Widget"
      ]
     },
     "metadata": {},
     "output_type": "display_data"
    },
    {
     "name": "stdout",
     "output_type": "stream",
     "text": [
      "\n"
     ]
    }
   ],
   "source": [
    "m.multifit()"
   ]
  },
  {
   "cell_type": "markdown",
   "metadata": {},
   "source": [
    "Construct the displacement graident tensor at each pixel from the fitting results"
   ]
  },
  {
   "cell_type": "code",
   "execution_count": 17,
   "metadata": {
    "collapsed": true
   },
   "outputs": [],
   "source": [
    "disp_grad = ref.construct_displacement_gradient()"
   ]
  },
  {
   "cell_type": "markdown",
   "metadata": {},
   "source": [
    "Perform (right) polar decomposition on the displacement gradient tensor to get rotation matrix, R, and strain matrix, U, at each pixel."
   ]
  },
  {
   "cell_type": "code",
   "execution_count": 18,
   "metadata": {},
   "outputs": [
    {
     "data": {
      "application/vnd.jupyter.widget-view+json": {
       "model_id": "123c9e1193054086883201cfeb0c2dd7",
       "version_major": 2,
       "version_minor": 0
      },
      "text/plain": [
       "A Jupyter Widget"
      ]
     },
     "metadata": {},
     "output_type": "display_data"
    },
    {
     "name": "stdout",
     "output_type": "stream",
     "text": [
      "\n"
     ]
    }
   ],
   "source": [
    "R, U = disp_grad.polar_decomposition()"
   ]
  },
  {
   "cell_type": "markdown",
   "metadata": {},
   "source": [
    "Get a strain map and plot it."
   ]
  },
  {
   "cell_type": "code",
   "execution_count": 19,
   "metadata": {},
   "outputs": [
    {
     "data": {
      "application/vnd.jupyter.widget-view+json": {
       "model_id": "7329d40ee5194571b6536d19b2183494",
       "version_major": 2,
       "version_minor": 0
      },
      "text/plain": [
       "A Jupyter Widget"
      ]
     },
     "metadata": {},
     "output_type": "display_data"
    },
    {
     "name": "stdout",
     "output_type": "stream",
     "text": [
      "\n"
     ]
    },
    {
     "data": {
      "application/vnd.jupyter.widget-view+json": {
       "model_id": "9e25257e29764efeb28a9009bd6b699b",
       "version_major": 2,
       "version_minor": 0
      },
      "text/plain": [
       "A Jupyter Widget"
      ]
     },
     "metadata": {},
     "output_type": "display_data"
    },
    {
     "name": "stdout",
     "output_type": "stream",
     "text": [
      "\n"
     ]
    }
   ],
   "source": [
    "strain_map = disp_grad.get_strain_maps()\n",
    "strain_map.plot()"
   ]
  }
 ],
 "metadata": {
  "anaconda-cloud": {},
  "kernelspec": {
   "display_name": "Python 3",
   "language": "python",
   "name": "python3"
  },
  "language_info": {
   "codemirror_mode": {
    "name": "ipython",
    "version": 3
   },
   "file_extension": ".py",
   "mimetype": "text/x-python",
   "name": "python",
   "nbconvert_exporter": "python",
   "pygments_lexer": "ipython3",
   "version": "3.6.3"
  },
  "widgets": {
   "state": {
    "280e931f7b274209a009d92f04098e5c": {
     "views": [
      {
       "cell_index": 54
      }
     ]
    },
    "3d704cd8716e4cb1bf00a7c4e9fe1330": {
     "views": [
      {
       "cell_index": 34
      }
     ]
    },
    "477fdf6035284f3ca253bc694d701370": {
     "views": [
      {
       "cell_index": 24
      }
     ]
    },
    "48d9b9d421a14ddc9e73f084d5fc5e37": {
     "views": [
      {
       "cell_index": 30
      }
     ]
    },
    "635d08b3b596415ab27d7bed3b684f91": {
     "views": [
      {
       "cell_index": 48
      }
     ]
    },
    "64f45a95642f400ea7d3bed5fecff420": {
     "views": [
      {
       "cell_index": 52
      }
     ]
    },
    "7618040a46fc4203b76648a4d1383a11": {
     "views": [
      {
       "cell_index": 28
      }
     ]
    },
    "bb0e63a793d34b2bb255c5dca59a5aa3": {
     "views": [
      {
       "cell_index": 54
      }
     ]
    }
   },
   "version": "1.2.0"
  }
 },
 "nbformat": 4,
 "nbformat_minor": 1
}
