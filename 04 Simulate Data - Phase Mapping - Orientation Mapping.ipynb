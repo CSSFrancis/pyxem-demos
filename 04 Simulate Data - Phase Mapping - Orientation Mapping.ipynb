{
 "cells": [
  {
   "cell_type": "markdown",
   "metadata": {},
   "source": [
    "# Introduction"
   ]
  },
  {
   "cell_type": "markdown",
   "metadata": {},
   "source": [
    "This tutorial demonstrates different routes to obtain phase and orientation maps from scanning electron diffraction data."
   ]
  },
  {
   "cell_type": "markdown",
   "metadata": {},
   "source": [
    "The code functionality is illustrated using synthetic data, which is first generated using pyxem. This synthetic data represents a simple bi-crystal comprising a cubic and hexagonal material adjacent to one another with two orientations, rotated by 10 degrees of each crystal. The intention is for this to provide an easy to understand illustration of the code functionality rather than to model any physical system."
   ]
  },
  {
   "cell_type": "markdown",
   "metadata": {},
   "source": [
    "This functionaility has been checked to run in pyxem-0.9.0 (July 2019). Bugs are always possible, do not trust the code blindly, and if you experience any issues please report them here: https://github.com/pyxem/pyxem-demos/issues"
   ]
  },
  {
   "cell_type": "markdown",
   "metadata": {},
   "source": [
    "# Contents"
   ]
  },
  {
   "cell_type": "markdown",
   "metadata": {},
   "source": [
    "1. <a href='#gen'> Setting up & Creating Synthetic Data</a>\n",
    "2. <a href='#pat'> Pattern Recognition Based Mapping</a>\n",
    "3. <a href='#vec'> Vector Based Mapping</a>\n",
    "4. <a href='#rot'> Rotation Conventions</a>"
   ]
  },
  {
   "cell_type": "markdown",
   "metadata": {},
   "source": [
    "# <a id='gen'></a> 1. Setting up & Creating Synthetic Data"
   ]
  },
  {
   "cell_type": "markdown",
   "metadata": {},
   "source": [
    "Import pyxem, required libraries and pyxem modules"
   ]
  },
  {
   "cell_type": "code",
   "execution_count": 1,
   "metadata": {},
   "outputs": [
    {
     "name": "stderr",
     "output_type": "stream",
     "text": [
      "WARNING:silx.opencl.common:Unable to import pyOpenCl. Please install it from: http://pypi.python.org/pypi/pyopencl\n"
     ]
    }
   ],
   "source": [
    "%matplotlib qt\n",
    "import numpy as np\n",
    "import hyperspy.api as hs\n",
    "import pyxem as pxm\n",
    "import diffpy.structure\n",
    "from matplotlib import pyplot as plt\n",
    "\n",
    "from diffsims.generators.structure_library_generator import StructureLibraryGenerator\n",
    "from diffsims.libraries.structure_library import StructureLibrary\n",
    "from diffsims.generators.diffraction_generator import DiffractionGenerator\n",
    "from diffsims.generators.library_generator import DiffractionLibraryGenerator, VectorLibraryGenerator\n",
    "\n",
    "from pyxem.generators.indexation_generator import IndexationGenerator\n",
    "from pyxem.generators.indexation_generator import VectorIndexationGenerator\n",
    "\n",
    "from pyxem.utils.sim_utils import sim_as_signal\n",
    "from pyxem.utils.indexation_utils import peaks_from_best_template\n",
    "from pyxem.utils.plot import generate_marker_inputs_from_peaks"
   ]
  },
  {
   "cell_type": "markdown",
   "metadata": {},
   "source": [
    "Define two illustrative crystal structures"
   ]
  },
  {
   "cell_type": "code",
   "execution_count": 2,
   "metadata": {},
   "outputs": [],
   "source": [
    "latt = diffpy.structure.lattice.Lattice(5, 5, 5, 90, 90, 90)\n",
    "atom = diffpy.structure.atom.Atom(atype='Si', xyz=[0, 0, 0], lattice=latt)\n",
    "si = diffpy.structure.Structure(atoms=[atom], lattice=latt)"
   ]
  },
  {
   "cell_type": "code",
   "execution_count": 3,
   "metadata": {},
   "outputs": [],
   "source": [
    "latt = diffpy.structure.lattice.Lattice(3, 3, 5, 90, 90, 120)\n",
    "atom = diffpy.structure.atom.Atom(atype='Ga', xyz=[0, 0, 0], lattice=latt)\n",
    "ga = diffpy.structure.Structure(atoms=[atom], lattice=latt)"
   ]
  },
  {
   "cell_type": "markdown",
   "metadata": {},
   "source": [
    "Define simulation paramaters and initialize DiffractionGenerator"
   ]
  },
  {
   "cell_type": "code",
   "execution_count": 4,
   "metadata": {},
   "outputs": [],
   "source": [
    "pattern_size = 256  # pixels\n",
    "half_pattern_size = pattern_size // 2\n",
    "reciprocal_radius = 1.2\n",
    "calibration = reciprocal_radius / half_pattern_size\n",
    "beam_energy = 300.0\n",
    "\n",
    "ediff = DiffractionGenerator(beam_energy, 0.025)  # keV and relrod length (1/Å)"
   ]
  },
  {
   "cell_type": "markdown",
   "metadata": {},
   "source": [
    "Create 4 seperate patterns, 2 for each crystal, one at 0 degress and one at 10 degrees."
   ]
  },
  {
   "cell_type": "code",
   "execution_count": 5,
   "metadata": {},
   "outputs": [
    {
     "name": "stderr",
     "output_type": "stream",
     "text": [
      "                                     \r"
     ]
    }
   ],
   "source": [
    "phase_names = ['Si', 'Ga'] \n",
    "sample_lib = StructureLibrary(phase_names, [si, ga], [\n",
    "                                  [(10,0,0), (0,0,0)],  # For Si\n",
    "                                  [(0,0,0), (10,0,0)]   # For Ga\n",
    "                              ])\n",
    "\n",
    "diff_gen = DiffractionLibraryGenerator(ediff)\n",
    "library = diff_gen.get_diffraction_library(sample_lib,\n",
    "                                           calibration=calibration,\n",
    "                                           reciprocal_radius=reciprocal_radius,\n",
    "                                           half_shape=(half_pattern_size, half_pattern_size),\n",
    "                                           with_direct_beam=False)\n",
    "\n",
    "data_silicon = []\n",
    "data_gallium = []\n",
    "\n",
    "for theta in [0, 10]:\n",
    "    pattern = sim_as_signal(library.get_library_entry(phase='Si', angle=(theta, 0, 0))['Sim'],\n",
    "                            pattern_size, 0.03, reciprocal_radius)\n",
    "    data_silicon.append(pattern)\n",
    "    pattern = sim_as_signal(library.get_library_entry(phase='Ga', angle=(theta, 0, 0))['Sim'],\n",
    "                            pattern_size, 0.03, reciprocal_radius)\n",
    "    data_gallium.append(pattern)\n",
    "        \n",
    "data = [x.data for x in data_silicon] + [x.data for x in data_gallium]\n",
    "\n",
    "test_data = pxm.ElectronDiffraction2D(np.asarray(data).reshape(2, 2, pattern_size, pattern_size))\n",
    "#test_data.set_diffraction_calibration(calibration) "
   ]
  },
  {
   "cell_type": "markdown",
   "metadata": {},
   "source": [
    "Plot the synethetic data that is analyzed in subsequent sections."
   ]
  },
  {
   "cell_type": "code",
   "execution_count": null,
   "metadata": {},
   "outputs": [],
   "source": [
    "test_data.plot(cmap='viridis')"
   ]
  },
  {
   "cell_type": "markdown",
   "metadata": {},
   "source": [
    "#  <a id='pat'></a> 2. Pattern Recognition Based Mapping"
   ]
  },
  {
   "cell_type": "markdown",
   "metadata": {},
   "source": [
    "The pattern recognition approach involves simulating a library of theoretical diffraction patterns for expected phases and orientations and then determining the best fitting simulation for each experimental pattern. Conventions for specifying crystal orientations are specified here: http://pyxem.github.io/pyxem/conventions.html"
   ]
  },
  {
   "cell_type": "markdown",
   "metadata": {},
   "source": [
    "Define a StructureLibrary containing specifying two crystal structures and orientations of each to include. The in-plane orientations can be a list of known options (set `inplane_rotations=[0]` in the call to `correlate` below) or the starting points for the list of rotations given to `correlate` below."
   ]
  },
  {
   "cell_type": "code",
   "execution_count": 12,
   "metadata": {},
   "outputs": [],
   "source": [
    "structure_library_generator = StructureLibraryGenerator(\n",
    "    [('Si', si, 'cubic'),\n",
    "     ('Ga', ga, 'hexagonal')])\n",
    "structure_library = structure_library_generator.get_orientations_from_stereographic_triangle(\n",
    "    [(0,), (0,)],  # In-plane rotations\n",
    "    5)  # Angular resolution of the library"
   ]
  },
  {
   "cell_type": "markdown",
   "metadata": {},
   "source": [
    "Generate a library of simulated diffraction data"
   ]
  },
  {
   "cell_type": "code",
   "execution_count": 13,
   "metadata": {},
   "outputs": [
    {
     "name": "stderr",
     "output_type": "stream",
     "text": [
      "                                                "
     ]
    },
    {
     "name": "stdout",
     "output_type": "stream",
     "text": [
      "\r",
      "\r"
     ]
    },
    {
     "name": "stderr",
     "output_type": "stream",
     "text": [
      "\r"
     ]
    }
   ],
   "source": [
    "diff_gen = DiffractionLibraryGenerator(ediff)\n",
    "template_library = diff_gen.get_diffraction_library(structure_library,\n",
    "                                                    calibration=calibration,\n",
    "                                                    reciprocal_radius=reciprocal_radius-0.1,\n",
    "                                                    half_shape=(half_pattern_size, half_pattern_size),\n",
    "                                                    with_direct_beam=False)"
   ]
  },
  {
   "cell_type": "markdown",
   "metadata": {},
   "source": [
    "Correlate with the patterns contained in the library with the test data. At this stage the top 3 (`n_largest`) matching results are retained. Test all in-plane rotations at 5 degree increments from 0 to 360."
   ]
  },
  {
   "cell_type": "code",
   "execution_count": null,
   "metadata": {},
   "outputs": [],
   "source": [
    "indexer = IndexationGenerator(test_data, template_library)\n",
    "match_results = indexer.correlate(n_largest=3, inplane_rotations=np.arange(0, 360, 5))"
   ]
  },
  {
   "cell_type": "markdown",
   "metadata": {},
   "source": [
    "We now have a range of ways of working with this output, but here we simply plot it to show that the method has worked as anticipated."
   ]
  },
  {
   "cell_type": "code",
   "execution_count": null,
   "metadata": {},
   "outputs": [],
   "source": [
    "match_results.plot_best_matching_results_on_signal(test_data, template_library, permanent_markers=False, cmap='viridis')"
   ]
  },
  {
   "cell_type": "markdown",
   "metadata": {},
   "source": [
    "Obtain an orientation map from the matching results, by selecting the top matching result, and plot it."
   ]
  },
  {
   "cell_type": "code",
   "execution_count": null,
   "metadata": {},
   "outputs": [],
   "source": [
    "cryst_map = match_results.get_crystallographic_map()\n",
    "ori_map = cryst_map.get_orientation_map()\n",
    "ori_map.plot(cmap='inferno')"
   ]
  },
  {
   "cell_type": "markdown",
   "metadata": {},
   "source": [
    "#  <a id='vec'></a> 3. Vector Based Mapping"
   ]
  },
  {
   "cell_type": "markdown",
   "metadata": {},
   "source": [
    "The vector matching approach involves finding the diffraction vectors measured within each pattern, using peak finding methods, mapping these 2D detector coordinates to 3D reciprocal space coordinates and then matching these peaks against theoretical reciprocal lattice vectors for anticipated crystal phases present."
   ]
  },
  {
   "cell_type": "markdown",
   "metadata": {},
   "source": [
    "Find peaks using the cross correlation `'xc'` method and map detector coordinates to reciprocal space coordinates."
   ]
  },
  {
   "cell_type": "code",
   "execution_count": 6,
   "metadata": {},
   "outputs": [
    {
     "data": {
      "application/vnd.jupyter.widget-view+json": {
       "model_id": "a19ec680283941818276b221f8908546",
       "version_major": 2,
       "version_minor": 0
      },
      "text/plain": [
       "HBox(children=(IntProgress(value=0, max=4), HTML(value='')))"
      ]
     },
     "metadata": {},
     "output_type": "display_data"
    },
    {
     "name": "stderr",
     "output_type": "stream",
     "text": [
      "WARNING:hyperspy.signal:The function you applied does not take into account the difference of units and of scales in-between axes.\n"
     ]
    },
    {
     "name": "stdout",
     "output_type": "stream",
     "text": [
      "\n"
     ]
    },
    {
     "data": {
      "application/vnd.jupyter.widget-view+json": {
       "model_id": "ba754fc7094e4be58d9b12107e57f29d",
       "version_major": 2,
       "version_minor": 0
      },
      "text/plain": [
       "HBox(children=(IntProgress(value=0, max=4), HTML(value='')))"
      ]
     },
     "metadata": {},
     "output_type": "display_data"
    },
    {
     "name": "stderr",
     "output_type": "stream",
     "text": [
      "WARNING:hyperspy.signal:The function you applied does not take into account the difference of units and of scales in-between axes.\n"
     ]
    },
    {
     "name": "stdout",
     "output_type": "stream",
     "text": [
      "\n"
     ]
    },
    {
     "data": {
      "application/vnd.jupyter.widget-view+json": {
       "model_id": "055fe6acd4374de2883e4e2eaafa1d4c",
       "version_major": 2,
       "version_minor": 0
      },
      "text/plain": [
       "HBox(children=(IntProgress(value=0, max=4), HTML(value='')))"
      ]
     },
     "metadata": {},
     "output_type": "display_data"
    },
    {
     "name": "stderr",
     "output_type": "stream",
     "text": [
      "/home/hremadmin/pyxem/pyxem/utils/vector_utils.py:57: RuntimeWarning: invalid value encountered in sqrt\n",
      "  k_z = np.sqrt(1 / (wavelength**2) - np.sum(k_xy**2, axis=1)) - 1 / wavelength\n"
     ]
    }
   ],
   "source": [
    "peak_example = test_data.inav[0, 0].isig[122:135, 101:114].data\n",
    "peaks = test_data.find_peaks('xc', disc_image=peak_example, peak_threshold=0.8)\n",
    "peaks.calculate_cartesian_coordinates(beam_energy, 0.2)  # Camera length in meters"
   ]
  },
  {
   "cell_type": "markdown",
   "metadata": {},
   "source": [
    "Define a structure library for the expected phases from section 1."
   ]
  },
  {
   "cell_type": "code",
   "execution_count": 7,
   "metadata": {},
   "outputs": [],
   "source": [
    "structure_library = StructureLibrary(['Si', 'Ga'], [si, ga], [[], []])"
   ]
  },
  {
   "cell_type": "markdown",
   "metadata": {},
   "source": [
    "Calulate a VectorLibrary containing expected reciprocal lattice vectors (and their pairs with inter-vector angles) for each expected phase."
   ]
  },
  {
   "cell_type": "code",
   "execution_count": 8,
   "metadata": {},
   "outputs": [],
   "source": [
    "library_generator = VectorLibraryGenerator(structure_library)\n",
    "vector_library = library_generator.get_vector_library(reciprocal_radius)"
   ]
  },
  {
   "cell_type": "markdown",
   "metadata": {},
   "source": [
    "Perform indexation by looking for peak pairs with vector lengths within 1.5 pixels and angle within 1° of the experimental peaks."
   ]
  },
  {
   "cell_type": "code",
   "execution_count": 9,
   "metadata": {},
   "outputs": [
    {
     "name": "stderr",
     "output_type": "stream",
     "text": [
      "WARNING:hyperspy.signal:The function you applied does not take into account the difference of units and of scales in-between axes.\n"
     ]
    },
    {
     "data": {
      "application/vnd.jupyter.widget-view+json": {
       "model_id": "80ef1e86fdaf4eee826e2773f5aa52fa",
       "version_major": 2,
       "version_minor": 0
      },
      "text/plain": [
       "HBox(children=(IntProgress(value=0, max=4), HTML(value='')))"
      ]
     },
     "metadata": {},
     "output_type": "display_data"
    },
    {
     "name": "stderr",
     "output_type": "stream",
     "text": [
      "/home/hremadmin/pyxem/pyxem/utils/indexation_utils.py:301: RuntimeWarning: invalid value encountered in less\n",
      "  tolerance_mask = np.abs(phase_measurements[:, 0] - q1_len) < mag_tol\n"
     ]
    }
   ],
   "source": [
    "indexation_generator = VectorIndexationGenerator(peaks, vector_library)\n",
    "indexation = indexation_generator.index_vectors(mag_tol=1.5*calibration,\n",
    "                                                angle_tol=1,\n",
    "                                                index_error_tol=0.2,\n",
    "                                                n_peaks_to_index=5,\n",
    "                                                n_best=2)"
   ]
  },
  {
   "cell_type": "markdown",
   "metadata": {},
   "source": [
    "Calculate a crystallographic map containing the indexation results for further manipulation"
   ]
  },
  {
   "cell_type": "code",
   "execution_count": 10,
   "metadata": {},
   "outputs": [
    {
     "name": "stderr",
     "output_type": "stream",
     "text": [
      "WARNING:hyperspy.signal:The function you applied does not take into account the difference of units and of scales in-between axes.\n"
     ]
    },
    {
     "data": {
      "application/vnd.jupyter.widget-view+json": {
       "model_id": "fec157a1ce464c6789c33efea5893f1a",
       "version_major": 2,
       "version_minor": 0
      },
      "text/plain": [
       "HBox(children=(IntProgress(value=0, max=4), HTML(value='')))"
      ]
     },
     "metadata": {},
     "output_type": "display_data"
    },
    {
     "name": "stdout",
     "output_type": "stream",
     "text": [
      "\n",
      "\n"
     ]
    }
   ],
   "source": [
    "cryst_map = indexation.get_crystallographic_map()"
   ]
  },
  {
   "cell_type": "markdown",
   "metadata": {},
   "source": [
    "Plot indexed peaks on top of the data using the template library from above to generate peak positions."
   ]
  },
  {
   "cell_type": "code",
   "execution_count": 14,
   "metadata": {},
   "outputs": [
    {
     "name": "stderr",
     "output_type": "stream",
     "text": [
      "WARNING:hyperspy.signal:The function you applied does not take into account the difference of units and of scales in-between axes.\n"
     ]
    },
    {
     "data": {
      "application/vnd.jupyter.widget-view+json": {
       "model_id": "d2abc455ad98443a99d56895e0247f26",
       "version_major": 2,
       "version_minor": 0
      },
      "text/plain": [
       "HBox(children=(IntProgress(value=0, max=4), HTML(value='')))"
      ]
     },
     "metadata": {},
     "output_type": "display_data"
    },
    {
     "name": "stdout",
     "output_type": "stream",
     "text": [
      "\n"
     ]
    }
   ],
   "source": [
    "indexation.plot_best_matching_results_on_signal(test_data, template_library, permanent_markers=False)"
   ]
  },
  {
   "cell_type": "markdown",
   "metadata": {},
   "source": [
    "Obtain an orientation map from the matching results, by selecting the top matching result, and plot it."
   ]
  },
  {
   "cell_type": "code",
   "execution_count": 15,
   "metadata": {},
   "outputs": [
    {
     "name": "stderr",
     "output_type": "stream",
     "text": [
      "WARNING:hyperspy.signal:The function you applied does not take into account the difference of units and of scales in-between axes.\n"
     ]
    },
    {
     "data": {
      "application/vnd.jupyter.widget-view+json": {
       "model_id": "90f9db5d6d5f4ba6b31e25134618e8fa",
       "version_major": 2,
       "version_minor": 0
      },
      "text/plain": [
       "HBox(children=(IntProgress(value=0, max=4), HTML(value='')))"
      ]
     },
     "metadata": {},
     "output_type": "display_data"
    },
    {
     "name": "stderr",
     "output_type": "stream",
     "text": [
      "WARNING:hyperspy.signal:The function you applied does not take into account the difference of units and of scales in-between axes.\n"
     ]
    },
    {
     "data": {
      "application/vnd.jupyter.widget-view+json": {
       "model_id": "2f54282a2de342cd8924876f36fc6fba",
       "version_major": 2,
       "version_minor": 0
      },
      "text/plain": [
       "HBox(children=(IntProgress(value=0, max=4), HTML(value='')))"
      ]
     },
     "metadata": {},
     "output_type": "display_data"
    },
    {
     "name": "stdout",
     "output_type": "stream",
     "text": [
      "\n",
      "\n"
     ]
    }
   ],
   "source": [
    "cryst_map = indexation.get_crystallographic_map()\n",
    "ori_map = cryst_map.get_orientation_map()\n",
    "ori_map.plot(cmap='inferno')"
   ]
  },
  {
   "cell_type": "markdown",
   "metadata": {},
   "source": [
    "Plot the match rate as a metric for mapping success."
   ]
  },
  {
   "cell_type": "code",
   "execution_count": 16,
   "metadata": {},
   "outputs": [
    {
     "name": "stderr",
     "output_type": "stream",
     "text": [
      "WARNING:hyperspy.signal:The function you applied does not take into account the difference of units and of scales in-between axes.\n"
     ]
    },
    {
     "data": {
      "application/vnd.jupyter.widget-view+json": {
       "model_id": "8699cd3bc987456b8191df60fbe9bd06",
       "version_major": 2,
       "version_minor": 0
      },
      "text/plain": [
       "HBox(children=(IntProgress(value=0, max=4), HTML(value='')))"
      ]
     },
     "metadata": {},
     "output_type": "display_data"
    },
    {
     "name": "stdout",
     "output_type": "stream",
     "text": [
      "\n"
     ]
    }
   ],
   "source": [
    "cryst_map.get_metric_map('match_rate').plot()"
   ]
  },
  {
   "cell_type": "markdown",
   "metadata": {},
   "source": [
    "# <a id='rot'></a>  4. Rotation Conventions"
   ]
  },
  {
   "cell_type": "markdown",
   "metadata": {},
   "source": [
    "To illustrate the rotation convention used, diffraction patterns for two orientations \"f1\" and \"f2\" are plotted below."
   ]
  },
  {
   "cell_type": "code",
   "execution_count": 17,
   "metadata": {},
   "outputs": [
    {
     "name": "stderr",
     "output_type": "stream",
     "text": [
      "\n",
      "  0%|          | 0/2 [00:00<?, ?it/s]\u001b[A\n",
      "                                     \u001b[A"
     ]
    },
    {
     "data": {
      "text/plain": [
       "<matplotlib.image.AxesImage at 0x7fb760a88748>"
      ]
     },
     "execution_count": 17,
     "metadata": {},
     "output_type": "execute_result"
    }
   ],
   "source": [
    "f1 = (90, -3, -90)\n",
    "f2 = (90, +3, -90)\n",
    "sample_lib = StructureLibrary(['Si'], [si], [[f1, f2]])\n",
    "diff_gen = DiffractionLibraryGenerator(ediff)\n",
    "library = diff_gen.get_diffraction_library(sample_lib,\n",
    "                                           calibration=1 / 64,\n",
    "                                           reciprocal_radius=0.8,\n",
    "                                           half_shape=(64,64),\n",
    "                                           with_direct_beam=False)\n",
    "\n",
    "pattern = sim_as_signal(library.get_library_entry(phase='Si', angle=f1)['Sim'],\n",
    "                        pattern_size, 0.03, 1)\n",
    "plt.figure('f1')\n",
    "plt.imshow(pattern, cmap='viridis', vmax=0.1)\n",
    "\n",
    "pattern = sim_as_signal(library.get_library_entry(phase='Si', angle=f2)['Sim'],\n",
    "                        pattern_size, 0.03, 1)\n",
    "plt.figure('f2')\n",
    "plt.imshow(pattern, cmap='viridis', vmax=0.1)"
   ]
  },
  {
   "cell_type": "code",
   "execution_count": null,
   "metadata": {},
   "outputs": [],
   "source": []
  }
 ],
 "metadata": {
  "anaconda-cloud": {},
  "kernelspec": {
   "display_name": "Python 3",
   "language": "python",
   "name": "python3"
  },
  "language_info": {
   "codemirror_mode": {
    "name": "ipython",
    "version": 3
   },
   "file_extension": ".py",
   "mimetype": "text/x-python",
   "name": "python",
   "nbconvert_exporter": "python",
   "pygments_lexer": "ipython3",
   "version": "3.7.3"
  }
 },
 "nbformat": 4,
 "nbformat_minor": 2
}
