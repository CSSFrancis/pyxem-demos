{
 "cells": [
  {
   "cell_type": "markdown",
   "metadata": {},
   "source": [
    "<b>Updated 5th November 2018<br/></b>\n",
    "Author: Phillip Crout (pc494) <br/> \n",
    "Comment: To reflect the move to diffpy"
   ]
  },
  {
   "cell_type": "markdown",
   "metadata": {},
   "source": [
    "<center><h4> ALERT: This should be downloaded and run, rather than viewed directly on github </h4></center>"
   ]
  },
  {
   "cell_type": "code",
   "execution_count": null,
   "metadata": {},
   "outputs": [],
   "source": [
    "%matplotlib tk\n",
    "import numpy as np\n",
    "import hyperspy.api as hs\n",
    "import pyxem as pxm\n",
    "import diffpy.structure\n",
    "from matplotlib import pyplot as plt\n",
    "from pyxem.generators.indexation_generator import IndexationGenerator\n",
    "from pyxem.utils.sim_utils import peaks_from_best_template\n",
    "from pyxem.utils.plot import generate_marker_inputs_from_peaks\n",
    "from pyxem.libraries.structure_library import StructureLibrary"
   ]
  },
  {
   "cell_type": "markdown",
   "metadata": {},
   "source": [
    "<h2><center> Creating a \"fake\" dataset </h2></center>"
   ]
  },
  {
   "cell_type": "markdown",
   "metadata": {},
   "source": [
    "First we set up two crystal structures"
   ]
  },
  {
   "cell_type": "code",
   "execution_count": null,
   "metadata": {},
   "outputs": [],
   "source": [
    "latt = diffpy.structure.lattice.Lattice(5, 5, 5, 90, 90, 90)\n",
    "atom = diffpy.structure.atom.Atom(atype='Si', xyz=[0, 0, 0], lattice=latt)\n",
    "si = diffpy.structure.Structure(atoms=[atom], lattice=latt)"
   ]
  },
  {
   "cell_type": "code",
   "execution_count": null,
   "metadata": {},
   "outputs": [],
   "source": [
    "latt = diffpy.structure.lattice.Lattice(3, 3, 5, 90, 90, 120)\n",
    "atom = diffpy.structure.atom.Atom(atype='Ga', xyz=[0, 0, 0], lattice=latt)\n",
    "ga = diffpy.structure.Structure(atoms=[atom], lattice=latt)"
   ]
  },
  {
   "cell_type": "markdown",
   "metadata": {},
   "source": [
    "And some simulation paramaters"
   ]
  },
  {
   "cell_type": "code",
   "execution_count": null,
   "metadata": {},
   "outputs": [],
   "source": [
    "size = 256 #pattern size in pixels\n",
    "radius=1.2 #reciprocal radius\n",
    "ediff = pxm.DiffractionGenerator(300., 0.025) #eV and relrod size"
   ]
  },
  {
   "cell_type": "markdown",
   "metadata": {},
   "source": [
    "We now create 4 seperate patterns, 2 for each crystal, one at 0 degress and one at 10 degrees, but this is all very artificial"
   ]
  },
  {
   "cell_type": "code",
   "execution_count": null,
   "metadata": {},
   "outputs": [],
   "source": [
    "sample_lib = StructureLibrary(['si','ga'],[si,ga],[[(10,0,0),(0,0,0)],[(0,0,0),(10,0,0)]])\n",
    "sample_lib.struct_lib\n",
    "\n",
    "diff_gen = pxm.DiffractionLibraryGenerator(ediff)\n",
    "library = diff_gen.get_diffraction_library(sample_lib,\n",
    "                                           calibration=1 / 64,\n",
    "                                           reciprocal_radius=0.8,\n",
    "                                           half_shape=(64,64),\n",
    "                                           with_direct_beam=False)\n",
    "\n",
    "data_silicon = []\n",
    "data_gallium = []\n",
    "\n",
    "for theta in [0,10]:\n",
    "    _ = library.get_library_entry(phase='si',angle=(theta,0,0))['Sim'].as_signal(128,0.03,1)\n",
    "    data_silicon.append(_)\n",
    "    _ = library.get_library_entry(phase='ga',angle=(theta,0,0))['Sim'].as_signal(128,0.03,1)\n",
    "    data_gallium.append(_)\n",
    "        \n",
    "data = [x.data for x in data_silicon] + [x.data for x in data_gallium]\n",
    "\n",
    "test_data = pxm.ElectronDiffraction(np.asarray(data).reshape(2,2,128,128))\n",
    "test_data.set_diffraction_calibration(1/64)"
   ]
  },
  {
   "cell_type": "code",
   "execution_count": null,
   "metadata": {},
   "outputs": [],
   "source": [
    "test_data.plot()"
   ]
  },
  {
   "cell_type": "markdown",
   "metadata": {},
   "source": [
    "test_data now contains the 4 patterns we will attempt to match to, we move onto creating a library"
   ]
  },
  {
   "cell_type": "markdown",
   "metadata": {},
   "source": [
    "<center><h2> Doing the mapping </h2></center>"
   ]
  },
  {
   "cell_type": "markdown",
   "metadata": {},
   "source": [
    "First we need to create a list of potential rotations"
   ]
  },
  {
   "cell_type": "code",
   "execution_count": null,
   "metadata": {},
   "outputs": [],
   "source": [
    "rot_list = []\n",
    "for theta in np.linspace(0,15,50): \n",
    "    rot_list.append((theta, 0, 0.))    #needs to be a tuple"
   ]
  },
  {
   "cell_type": "markdown",
   "metadata": {},
   "source": [
    "And then a structure library (see the docstrings for details)"
   ]
  },
  {
   "cell_type": "code",
   "execution_count": null,
   "metadata": {},
   "outputs": [],
   "source": [
    "search_lib = StructureLibrary(['si','ga'],[si,ga],[rot_list,rot_list])"
   ]
  },
  {
   "cell_type": "markdown",
   "metadata": {},
   "source": [
    "The next step generates a library, which contains simulated diffraction data"
   ]
  },
  {
   "cell_type": "code",
   "execution_count": null,
   "metadata": {},
   "outputs": [],
   "source": [
    "diff_gen = pxm.DiffractionLibraryGenerator(ediff)\n",
    "library = diff_gen.get_diffraction_library(search_lib,\n",
    "                                            calibration=1/64,\n",
    "                                            reciprocal_radius=0.7,\n",
    "                                            half_shape=(64,64),\n",
    "                                            with_direct_beam=True)"
   ]
  },
  {
   "cell_type": "markdown",
   "metadata": {},
   "source": [
    "which we then correlate with the test (normally experimental) dataset"
   ]
  },
  {
   "cell_type": "code",
   "execution_count": null,
   "metadata": {},
   "outputs": [],
   "source": [
    "indexer = IndexationGenerator(test_data, library)\n",
    "phase=[\"si\",\"ga\"] \n",
    "match_results = indexer.correlate(n_largest=2,keys=phase)"
   ]
  },
  {
   "cell_type": "markdown",
   "metadata": {},
   "source": [
    "we then have a range of ways of working with this output, but here we simply plot it to show that the method has worked as anticipated"
   ]
  },
  {
   "cell_type": "code",
   "execution_count": null,
   "metadata": {},
   "outputs": [],
   "source": [
    "peaks= match_results.map(peaks_from_best_template,phase=phase,library=library,inplace=False)\n",
    "mmx,mmy = generate_marker_inputs_from_peaks(peaks)\n",
    "test_data.plot(cmap='viridis') \n",
    "for mx,my in zip(mmx,mmy):\n",
    "    m = hs.markers.point(x=mx,y=my,color='red',marker='x')\n",
    "    test_data.add_marker(m,plot_marker=True,permanent=True)"
   ]
  },
  {
   "cell_type": "markdown",
   "metadata": {},
   "source": [
    "Remeber our rotations are anti-clockwise!"
   ]
  },
  {
   "cell_type": "markdown",
   "metadata": {},
   "source": [
    "<h2><center> Appendix </center></h2>"
   ]
  },
  {
   "cell_type": "markdown",
   "metadata": {},
   "source": [
    "Below is playground to help you get used to our rotation convention. \"f1\" and \"f2\" will be plotted as figure 1 and 2 respectively (assuming no figures are open when you run the cell) - and each is set to an euler triplet"
   ]
  },
  {
   "cell_type": "code",
   "execution_count": null,
   "metadata": {},
   "outputs": [],
   "source": [
    "f1 = (90,-3,-90)\n",
    "f2 = (90,+3,-90)\n",
    "sample_lib = StructureLibrary(['si'],[si],[[f1,f2]])\n",
    "diff_gen = pxm.DiffractionLibraryGenerator(ediff)\n",
    "library = diff_gen.get_diffraction_library(sample_lib,\n",
    "                                           calibration=1 / 64,\n",
    "                                           reciprocal_radius=0.8,\n",
    "                                           half_shape=(64,64),\n",
    "                                           with_direct_beam=False)\n",
    "\n",
    "_ = library.get_library_entry(phase='si',angle=f1)['Sim'].as_signal(128,0.03,1)\n",
    "plt.figure()\n",
    "plt.imshow(_,cmap='viridis',vmax=0.1)\n",
    "\n",
    "_ = library.get_library_entry(phase='si',angle=f2)['Sim'].as_signal(128,0.03,1)\n",
    "plt.figure()\n",
    "plt.imshow(_,cmap='viridis',vmax=0.1)"
   ]
  }
 ],
 "metadata": {
  "anaconda-cloud": {},
  "kernelspec": {
   "display_name": "Python 3",
   "language": "python",
   "name": "python3"
  },
  "language_info": {
   "codemirror_mode": {
    "name": "ipython",
    "version": 3
   },
   "file_extension": ".py",
   "mimetype": "text/x-python",
   "name": "python",
   "nbconvert_exporter": "python",
   "pygments_lexer": "ipython3",
   "version": "3.6.6"
  }
 },
 "nbformat": 4,
 "nbformat_minor": 2
}
