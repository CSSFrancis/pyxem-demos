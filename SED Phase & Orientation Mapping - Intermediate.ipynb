{
 "cells": [
  {
   "cell_type": "markdown",
   "metadata": {},
   "source": [
    "<b>Updated 5th November 2018<br/></b>\n",
    "Author: Phillip Crout (pc494) <br/> \n",
    "Comment: To reflect the move to diffpy"
   ]
  },
  {
   "cell_type": "markdown",
   "metadata": {},
   "source": [
    "<center><h4> ALERT: This should be downloaded and run, rather than viewed directly on github </h4></center>"
   ]
  },
  {
   "cell_type": "code",
   "execution_count": null,
   "metadata": {},
   "outputs": [],
   "source": [
    "%matplotlib tk\n",
    "import numpy as np\n",
    "import hyperspy.api as hs\n",
    "import pyxem as pxm\n",
    "import diffpy.structure\n",
    "from matplotlib import pyplot as plt\n",
    "from pyxem.generators.indexation_generator import IndexationGenerator\n",
    "from pyxem.generators.library_generator import VectorLibraryGenerator\n",
    "from pyxem.generators.indexation_generator import VectorIndexationGenerator\n",
    "from pyxem.generators.structure_library_generator import StructureLibraryGenerator\n",
    "from pyxem.utils.sim_utils import peaks_from_best_template\n",
    "from pyxem.utils.plot import generate_marker_inputs_from_peaks\n",
    "from pyxem.libraries.structure_library import StructureLibrary"
   ]
  },
  {
   "cell_type": "markdown",
   "metadata": {},
   "source": [
    "<center><h2>Creating a \"fake\" dataset</h2></center>"
   ]
  },
  {
   "cell_type": "markdown",
   "metadata": {},
   "source": [
    "First we set up two crystal structures"
   ]
  },
  {
   "cell_type": "code",
   "execution_count": null,
   "metadata": {},
   "outputs": [],
   "source": [
    "latt = diffpy.structure.lattice.Lattice(5, 5, 5, 90, 90, 90)\n",
    "atom = diffpy.structure.atom.Atom(atype='Si', xyz=[0, 0, 0], lattice=latt)\n",
    "si = diffpy.structure.Structure(atoms=[atom], lattice=latt)"
   ]
  },
  {
   "cell_type": "code",
   "execution_count": null,
   "metadata": {},
   "outputs": [],
   "source": [
    "latt = diffpy.structure.lattice.Lattice(3, 3, 5, 90, 90, 120)\n",
    "atom = diffpy.structure.atom.Atom(atype='Ga', xyz=[0, 0, 0], lattice=latt)\n",
    "ga = diffpy.structure.Structure(atoms=[atom], lattice=latt)"
   ]
  },
  {
   "cell_type": "markdown",
   "metadata": {},
   "source": [
    "And some simulation paramaters"
   ]
  },
  {
   "cell_type": "code",
   "execution_count": null,
   "metadata": {},
   "outputs": [],
   "source": [
    "pattern_size = 256  # pixels\n",
    "half_pattern_size = pattern_size // 2\n",
    "reciprocal_radius = 1.2\n",
    "calibration = reciprocal_radius / half_pattern_size\n",
    "beam_energy = 300.0\n",
    "ediff = pxm.DiffractionGenerator(beam_energy, 0.025)  # keV and relrod length (1/Å)"
   ]
  },
  {
   "cell_type": "markdown",
   "metadata": {},
   "source": [
    "We now create 4 seperate patterns, 2 for each crystal, one at 0 degress and one at 10 degrees, but this is all very artificial."
   ]
  },
  {
   "cell_type": "code",
   "execution_count": null,
   "metadata": {},
   "outputs": [],
   "source": [
    "phase_names = ['Si', 'Ga'] \n",
    "sample_lib = StructureLibrary(phase_names, [si, ga], [\n",
    "                                  [(10,0,0), (0,0,0)],  # For Si\n",
    "                                  [(0,0,0), (10,0,0)]   # For Ga\n",
    "                              ])\n",
    "\n",
    "diff_gen = pxm.DiffractionLibraryGenerator(ediff)\n",
    "library = diff_gen.get_diffraction_library(sample_lib,\n",
    "                                           calibration=calibration,\n",
    "                                           reciprocal_radius=reciprocal_radius,\n",
    "                                           half_shape=(half_pattern_size, half_pattern_size),\n",
    "                                           with_direct_beam=False)\n",
    "\n",
    "data_silicon = []\n",
    "data_gallium = []\n",
    "\n",
    "for theta in [0, 10]:\n",
    "    pattern = library.get_library_entry(\n",
    "        phase='Si', angle=(theta, 0, 0))['Sim'].as_signal(pattern_size, 0.03, reciprocal_radius)\n",
    "    data_silicon.append(pattern)\n",
    "    pattern = library.get_library_entry(\n",
    "        phase='Ga', angle=(theta, 0, 0))['Sim'].as_signal(pattern_size, 0.03, reciprocal_radius)\n",
    "    data_gallium.append(pattern)\n",
    "        \n",
    "data = [x.data for x in data_silicon] + [x.data for x in data_gallium]\n",
    "\n",
    "test_data = pxm.ElectronDiffraction(np.asarray(data).reshape(2, 2, pattern_size, pattern_size))\n",
    "test_data.set_diffraction_calibration(calibration) "
   ]
  },
  {
   "cell_type": "code",
   "execution_count": null,
   "metadata": {},
   "outputs": [],
   "source": [
    "test_data.plot()"
   ]
  },
  {
   "cell_type": "markdown",
   "metadata": {},
   "source": [
    "`test_data` now contains the 4 patterns we will attempt to match to, representing our experimental diffraction patterns. We move onto creating a library."
   ]
  },
  {
   "cell_type": "markdown",
   "metadata": {},
   "source": [
    "<center><h2> Mapping with template matching </h2></center>"
   ]
  },
  {
   "cell_type": "markdown",
   "metadata": {},
   "source": [
    "First we need to create a structure library (see the docstrings for details). The structure library generator has an utility function for creating a library covering all unique rotations for the specified structures."
   ]
  },
  {
   "cell_type": "code",
   "execution_count": null,
   "metadata": {},
   "outputs": [],
   "source": [
    "structure_library_generator = StructureLibraryGenerator(\n",
    "    [('Si', si, 'cubic'),\n",
    "     ('Ga', ga, 'hexagonal')])\n",
    "structure_library = structure_library_generator.get_orientations_from_stereographic_triangle(\n",
    "    [(0, 10), (0, 10)],  # Inplane rotations to include\n",
    "    5)  # Angular resolution of the library"
   ]
  },
  {
   "cell_type": "markdown",
   "metadata": {},
   "source": [
    "The next step generates a library of simulated diffraction data"
   ]
  },
  {
   "cell_type": "code",
   "execution_count": null,
   "metadata": {},
   "outputs": [],
   "source": [
    "diff_gen = pxm.DiffractionLibraryGenerator(ediff)\n",
    "template_library = diff_gen.get_diffraction_library(structure_library,\n",
    "                                                    calibration=calibration,\n",
    "                                                    reciprocal_radius=reciprocal_radius-0.1,\n",
    "                                                    half_shape=(half_pattern_size, half_pattern_size),\n",
    "                                                    with_direct_beam=False)"
   ]
  },
  {
   "cell_type": "markdown",
   "metadata": {},
   "source": [
    "which we then correlate with the test (normally experimental) dataset."
   ]
  },
  {
   "cell_type": "code",
   "execution_count": null,
   "metadata": {},
   "outputs": [],
   "source": [
    "indexer = IndexationGenerator(test_data, template_library)\n",
    "match_results = indexer.correlate(n_largest=1, keys=phase_names)"
   ]
  },
  {
   "cell_type": "markdown",
   "metadata": {},
   "source": [
    "We now have a range of ways of working with this output, but here we simply plot it to show that the method has worked as anticipated."
   ]
  },
  {
   "cell_type": "code",
   "execution_count": null,
   "metadata": {},
   "outputs": [],
   "source": [
    "match_results.plot_best_matching_results_on_signal(test_data, phase_names, template_library, permanent_markers=False)"
   ]
  },
  {
   "cell_type": "markdown",
   "metadata": {},
   "source": [
    "Remeber our rotations are anti-clockwise!"
   ]
  },
  {
   "cell_type": "markdown",
   "metadata": {},
   "source": [
    "<center><h2> Mapping with vector matching </h2></center>"
   ]
  },
  {
   "cell_type": "markdown",
   "metadata": {},
   "source": [
    "Vector matching starts with finding the diffraction spots using peak finding. The cross correlation `'xc'` method (which works by comparison to an example peak) works good on this example. Using the camera length, we calculate the 3D $\\vec g$ that are used for the matching."
   ]
  },
  {
   "cell_type": "code",
   "execution_count": null,
   "metadata": {},
   "outputs": [],
   "source": [
    "peak_example = test_data.inav[0, 0].isig[122:135, 101:114].data\n",
    "peaks = test_data.find_peaks('xc', disc_image=peak_example, peak_threshold=0.8)\n",
    "peaks.calculate_cartesian_coordinates(beam_energy, 0.2)  # Camera length in meters"
   ]
  },
  {
   "cell_type": "markdown",
   "metadata": {},
   "source": [
    "You can explore other peak finding methods using the interactive viewer."
   ]
  },
  {
   "cell_type": "code",
   "execution_count": null,
   "metadata": {},
   "outputs": [],
   "source": [
    "#test_data.find_peaks_interactive(peak_example)"
   ]
  },
  {
   "cell_type": "markdown",
   "metadata": {},
   "source": [
    "Now we create the vector library which contain peak pairs that are matched against the experimental peaks. No rotation list is required for the structure library."
   ]
  },
  {
   "cell_type": "code",
   "execution_count": null,
   "metadata": {},
   "outputs": [],
   "source": [
    "structure_library = StructureLibrary(['Si', 'Ga'], [si, ga], [[], []])\n",
    "library_generator = VectorLibraryGenerator(structure_library)\n",
    "vector_library = library_generator.get_vector_library(reciprocal_radius)"
   ]
  },
  {
   "cell_type": "markdown",
   "metadata": {},
   "source": [
    "Then, run the indexing. We look for peak pairs with vector lengths within 1.5 pixels and angle within 1° of the experimental peaks."
   ]
  },
  {
   "cell_type": "code",
   "execution_count": null,
   "metadata": {},
   "outputs": [],
   "source": [
    "indexation_generator = VectorIndexationGenerator(peaks, vector_library)\n",
    "indexation = indexation_generator.index_vectors(mag_tol=1.5*calibration,\n",
    "                                                angle_tol=1,\n",
    "                                                index_error_tol=0.2,\n",
    "                                                n_peaks_to_index=5,\n",
    "                                                n_best=2,\n",
    "                                                keys=['Si', 'Ga'])"
   ]
  },
  {
   "cell_type": "markdown",
   "metadata": {},
   "source": [
    "From the indexed peaks, we can calculate the crystallographic map for easier access to the indexing results."
   ]
  },
  {
   "cell_type": "code",
   "execution_count": null,
   "metadata": {},
   "outputs": [],
   "source": [
    "cryst_map = indexation.get_crystallographic_map()"
   ]
  },
  {
   "cell_type": "markdown",
   "metadata": {},
   "source": [
    "We can, for example, plot the match rate which indicates how successfull the mapping was."
   ]
  },
  {
   "cell_type": "code",
   "execution_count": null,
   "metadata": {},
   "outputs": [],
   "source": [
    "cryst_map.get_metric_map('match_rate').plot()"
   ]
  },
  {
   "cell_type": "markdown",
   "metadata": {},
   "source": [
    "Or we can plot the peaks on top of the diffraction patterns."
   ]
  },
  {
   "cell_type": "code",
   "execution_count": null,
   "metadata": {},
   "outputs": [],
   "source": [
    "indexation.plot_best_matching_results_on_signal(test_data, phase_names,\n",
    "                                                vector_library, ediff, reciprocal_radius,\n",
    "                                                permanent_markers=False)"
   ]
  },
  {
   "cell_type": "markdown",
   "metadata": {},
   "source": [
    "<h2><center> Appendix </center></h2>"
   ]
  },
  {
   "cell_type": "markdown",
   "metadata": {},
   "source": [
    "Below is playground to help you get used to our rotation convention. \"f1\" and \"f2\" will be plotted as in windows with the corresponding name - and each is set to an euler triplet."
   ]
  },
  {
   "cell_type": "code",
   "execution_count": null,
   "metadata": {},
   "outputs": [],
   "source": [
    "f1 = (90, -3, -90)\n",
    "f2 = (90, +3, -90)\n",
    "sample_lib = StructureLibrary(['Si'], [si], [[f1, f2]])\n",
    "diff_gen = pxm.DiffractionLibraryGenerator(ediff)\n",
    "library = diff_gen.get_diffraction_library(sample_lib,\n",
    "                                           calibration=1 / 64,\n",
    "                                           reciprocal_radius=0.8,\n",
    "                                           half_shape=(64,64),\n",
    "                                           with_direct_beam=False)\n",
    "\n",
    "pattern = library.get_library_entry(phase='Si', angle=f1)['Sim'].as_signal(pattern_size, 0.03, 1)\n",
    "plt.figure('f1')\n",
    "plt.imshow(pattern, cmap='viridis', vmax=0.1)\n",
    "\n",
    "pattern = library.get_library_entry(phase='Si', angle=f2)['Sim'].as_signal(pattern_size, 0.03, 1)\n",
    "plt.figure('f2')\n",
    "plt.imshow(pattern, cmap='viridis', vmax=0.1)"
   ]
  }
 ],
 "metadata": {
  "anaconda-cloud": {},
  "kernelspec": {
   "display_name": "Python 3",
   "language": "python",
   "name": "python3"
  },
  "language_info": {
   "codemirror_mode": {
    "name": "ipython",
    "version": 3
   },
   "file_extension": ".py",
   "mimetype": "text/x-python",
   "name": "python",
   "nbconvert_exporter": "python",
   "pygments_lexer": "ipython3",
   "version": "3.6.5"
  }
 },
 "nbformat": 4,
 "nbformat_minor": 2
}
