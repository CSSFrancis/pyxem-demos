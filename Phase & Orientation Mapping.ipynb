{
 "cells": [
  {
   "cell_type": "markdown",
   "metadata": {},
   "source": [
    "# Introduction"
   ]
  },
  {
   "cell_type": "markdown",
   "metadata": {},
   "source": [
    "This tutorial demonstrates different routes to obtain phase and orientation maps from scanning electron diffraction data."
   ]
  },
  {
   "cell_type": "markdown",
   "metadata": {},
   "source": [
    "All functionality has been checked to run using pyxem-0.7"
   ]
  },
  {
   "cell_type": "markdown",
   "metadata": {},
   "source": [
    "The code functionality is illustrated using synthetic data, which is first generated using pyxem. This synthetic data represents a simple bi-crystal comprising a cubic and hexagonal material adjacent to one another with two orientations, rotated by 10 degrees of each crystal. The intention is for this to provide an easy to understand illustration of the code functionality rather than to model any physical system."
   ]
  },
  {
   "cell_type": "markdown",
   "metadata": {},
   "source": [
    "# Contents"
   ]
  },
  {
   "cell_type": "markdown",
   "metadata": {},
   "source": [
    "1. <a href='#gen'> Setting up & Creating Synthetic Data</a>\n",
    "2. <a href='#pat'> Pattern Recognition Based Mapping</a>\n",
    "3. <a href='#vec'> Vector Based Mapping</a>\n",
    "4. <a href='#rot'> Rotation Conventions</a>"
   ]
  },
  {
   "cell_type": "markdown",
   "metadata": {},
   "source": [
    "# <a id='gen'></a> 1. Setting up & Creating Synthetic Data"
   ]
  },
  {
   "cell_type": "markdown",
   "metadata": {},
   "source": [
    "Import pyxem, required libraries and pyxem modules"
   ]
  },
  {
   "cell_type": "code",
   "execution_count": null,
   "metadata": {},
   "outputs": [],
   "source": [
    "%matplotlib tk\n",
    "import numpy as np\n",
    "import hyperspy.api as hs\n",
    "import pyxem as pxm\n",
    "import diffpy.structure\n",
    "from matplotlib import pyplot as plt\n",
    "from pyxem.generators.indexation_generator import IndexationGenerator\n",
    "from pyxem.generators.library_generator import VectorLibraryGenerator\n",
    "from pyxem.generators.indexation_generator import VectorIndexationGenerator\n",
    "from pyxem.generators.structure_library_generator import StructureLibraryGenerator\n",
    "from pyxem.utils.sim_utils import peaks_from_best_template\n",
    "from pyxem.utils.plot import generate_marker_inputs_from_peaks\n",
    "from pyxem.libraries.structure_library import StructureLibrary"
   ]
  },
  {
   "cell_type": "markdown",
   "metadata": {},
   "source": [
    "Define two illustrative crystal structures"
   ]
  },
  {
   "cell_type": "code",
   "execution_count": null,
   "metadata": {},
   "outputs": [],
   "source": [
    "latt = diffpy.structure.lattice.Lattice(5, 5, 5, 90, 90, 90)\n",
    "atom = diffpy.structure.atom.Atom(atype='Si', xyz=[0, 0, 0], lattice=latt)\n",
    "si = diffpy.structure.Structure(atoms=[atom], lattice=latt)"
   ]
  },
  {
   "cell_type": "code",
   "execution_count": null,
   "metadata": {},
   "outputs": [],
   "source": [
    "latt = diffpy.structure.lattice.Lattice(3, 3, 5, 90, 90, 120)\n",
    "atom = diffpy.structure.atom.Atom(atype='Ga', xyz=[0, 0, 0], lattice=latt)\n",
    "ga = diffpy.structure.Structure(atoms=[atom], lattice=latt)"
   ]
  },
  {
   "cell_type": "markdown",
   "metadata": {},
   "source": [
    "Define simulation paramaters and initialize DiffractionGenerator"
   ]
  },
  {
   "cell_type": "code",
   "execution_count": null,
   "metadata": {},
   "outputs": [],
   "source": [
    "pattern_size = 256  # pixels\n",
    "half_pattern_size = pattern_size // 2\n",
    "reciprocal_radius = 1.2\n",
    "calibration = reciprocal_radius / half_pattern_size\n",
    "beam_energy = 300.0\n",
    "\n",
    "ediff = pxm.DiffractionGenerator(beam_energy, 0.025)  # keV and relrod length (1/Å)"
   ]
  },
  {
   "cell_type": "markdown",
   "metadata": {},
   "source": [
    "Create 4 seperate patterns, 2 for each crystal, one at 0 degress and one at 10 degrees."
   ]
  },
  {
   "cell_type": "code",
   "execution_count": null,
   "metadata": {},
   "outputs": [],
   "source": [
    "phase_names = ['Si', 'Ga'] \n",
    "sample_lib = StructureLibrary(phase_names, [si, ga], [\n",
    "                                  [(10,0,0), (0,0,0)],  # For Si\n",
    "                                  [(0,0,0), (10,0,0)]   # For Ga\n",
    "                              ])\n",
    "\n",
    "diff_gen = pxm.DiffractionLibraryGenerator(ediff)\n",
    "library = diff_gen.get_diffraction_library(sample_lib,\n",
    "                                           calibration=calibration,\n",
    "                                           reciprocal_radius=reciprocal_radius,\n",
    "                                           half_shape=(half_pattern_size, half_pattern_size),\n",
    "                                           with_direct_beam=False)\n",
    "\n",
    "data_silicon = []\n",
    "data_gallium = []\n",
    "\n",
    "for theta in [0, 10]:\n",
    "    pattern = library.get_library_entry(\n",
    "        phase='Si', angle=(theta, 0, 0))['Sim'].as_signal(pattern_size, 0.03, reciprocal_radius)\n",
    "    data_silicon.append(pattern)\n",
    "    pattern = library.get_library_entry(\n",
    "        phase='Ga', angle=(theta, 0, 0))['Sim'].as_signal(pattern_size, 0.03, reciprocal_radius)\n",
    "    data_gallium.append(pattern)\n",
    "        \n",
    "data = [x.data for x in data_silicon] + [x.data for x in data_gallium]\n",
    "\n",
    "test_data = pxm.ElectronDiffraction(np.asarray(data).reshape(2, 2, pattern_size, pattern_size))\n",
    "test_data.set_diffraction_calibration(calibration) "
   ]
  },
  {
   "cell_type": "markdown",
   "metadata": {},
   "source": [
    "Plot the synethetic data that is analyzed in subsequent sections."
   ]
  },
  {
   "cell_type": "code",
   "execution_count": null,
   "metadata": {},
   "outputs": [],
   "source": [
    "test_data.plot(cmap='viridis')"
   ]
  },
  {
   "cell_type": "markdown",
   "metadata": {},
   "source": [
    "#  <a id='pat'></a> 2. Pattern Recognition Based Mapping"
   ]
  },
  {
   "cell_type": "markdown",
   "metadata": {},
   "source": [
    "The pattern recognition approach involves simulating a library of theoretical diffraction patterns for expected phases and orientations and then determining the best fitting simulation for each experimental pattern. Conventions for specifying crystal orientations are specified here: http://pyxem.github.io/pyxem/conventions.html"
   ]
  },
  {
   "cell_type": "markdown",
   "metadata": {},
   "source": [
    "Define a StructureLibrary containing specifying two crystal structures and orientations of each to include. The in-plane orientations can be a list of known options, or the starting points for a search as is done here."
   ]
  },
  {
   "cell_type": "code",
   "execution_count": null,
   "metadata": {},
   "outputs": [],
   "source": [
    "structure_library_generator = StructureLibraryGenerator(\n",
    "    [('Si', si, 'cubic'),\n",
    "     ('Ga', ga, 'hexagonal')])\n",
    "structure_library = structure_library_generator.get_orientations_from_stereographic_triangle(\n",
    "    [(0,), (0,)],  # In-plane rotations\n",
    "    5)  # Angular resolution of the library"
   ]
  },
  {
   "cell_type": "markdown",
   "metadata": {},
   "source": [
    "Generate a library of simulated diffraction data"
   ]
  },
  {
   "cell_type": "code",
   "execution_count": null,
   "metadata": {},
   "outputs": [],
   "source": [
    "diff_gen = pxm.DiffractionLibraryGenerator(ediff)\n",
    "template_library = diff_gen.get_diffraction_library(structure_library,\n",
    "                                                    calibration=calibration,\n",
    "                                                    reciprocal_radius=reciprocal_radius-0.1,\n",
    "                                                    half_shape=(half_pattern_size, half_pattern_size),\n",
    "                                                    with_direct_beam=False)"
   ]
  },
  {
   "cell_type": "markdown",
   "metadata": {},
   "source": [
    "Correlate with the patterns contained in the library with the test data. At this stage the top 3 (n_largest) matching results are retained."
   ]
  },
  {
   "cell_type": "code",
   "execution_count": null,
   "metadata": {},
   "outputs": [],
   "source": [
    "indexer = IndexationGenerator(test_data, template_library)\n",
    "match_results = indexer.correlate(n_largest=3, inplane_rotations=np.arange(0, 360, 5))"
   ]
  },
  {
   "cell_type": "markdown",
   "metadata": {},
   "source": [
    "We now have a range of ways of working with this output, but here we simply plot it to show that the method has worked as anticipated."
   ]
  },
  {
   "cell_type": "code",
   "execution_count": null,
   "metadata": {},
   "outputs": [],
   "source": [
    "match_results.plot_best_matching_results_on_signal(test_data, template_library, permanent_markers=False, cmap='viridis')"
   ]
  },
  {
   "cell_type": "markdown",
   "metadata": {},
   "source": [
    "Obtain an orientation map from the matching results, by selecting the top matching result, and plot it."
   ]
  },
  {
   "cell_type": "code",
   "execution_count": null,
   "metadata": {},
   "outputs": [],
   "source": [
    "cryst_map = match_results.get_crystallographic_map()\n",
    "ori_map = cryst_map.get_orientation_map()\n",
    "ori_map.plot(cmap='inferno')"
   ]
  },
  {
   "cell_type": "markdown",
   "metadata": {},
   "source": [
    "#  <a id='vec'></a> 3. Vector Based Mapping"
   ]
  },
  {
   "cell_type": "markdown",
   "metadata": {},
   "source": [
    "The vector matching approach involves finding the diffraction vectors measured within each pattern, using peak finding methods, mapping these 2D detector coordinates to 3D reciprocal space coordinates and then matching these peaks against theoretical reciprocal lattice vectors for anticipated crystal phases present."
   ]
  },
  {
   "cell_type": "markdown",
   "metadata": {},
   "source": [
    "Find peaks using the cross correlation `'xc'` method and map detector coordinates to reciprocal space coordinates."
   ]
  },
  {
   "cell_type": "code",
   "execution_count": null,
   "metadata": {},
   "outputs": [],
   "source": [
    "peak_example = test_data.inav[0, 0].isig[122:135, 101:114].data\n",
    "peaks = test_data.find_peaks('xc', disc_image=peak_example, peak_threshold=0.8)\n",
    "peaks.calculate_cartesian_coordinates(beam_energy, 0.2)  # Camera length in meters"
   ]
  },
  {
   "cell_type": "markdown",
   "metadata": {},
   "source": [
    "Define a structure library for the expected phases from section 1."
   ]
  },
  {
   "cell_type": "code",
   "execution_count": null,
   "metadata": {},
   "outputs": [],
   "source": [
    "structure_library = StructureLibrary(['Si', 'Ga'], [si, ga], [[], []])"
   ]
  },
  {
   "cell_type": "markdown",
   "metadata": {},
   "source": [
    "Calulate a VectorLibrary containing expected reciprocal lattice vectors (and their pairs with inter-vector angles) for each expected phase."
   ]
  },
  {
   "cell_type": "code",
   "execution_count": null,
   "metadata": {},
   "outputs": [],
   "source": [
    "library_generator = VectorLibraryGenerator(structure_library)\n",
    "vector_library = library_generator.get_vector_library(reciprocal_radius)"
   ]
  },
  {
   "cell_type": "markdown",
   "metadata": {},
   "source": [
    "Perform indexation by looking for peak pairs with vector lengths within 1.5 pixels and angle within 1° of the experimental peaks."
   ]
  },
  {
   "cell_type": "code",
   "execution_count": null,
   "metadata": {},
   "outputs": [],
   "source": [
    "indexation_generator = VectorIndexationGenerator(peaks, vector_library)\n",
    "indexation = indexation_generator.index_vectors(mag_tol=1.5*calibration,\n",
    "                                                angle_tol=1,\n",
    "                                                index_error_tol=0.2,\n",
    "                                                n_peaks_to_index=5,\n",
    "                                                n_best=2,\n",
    "                                                keys=['Si', 'Ga'])"
   ]
  },
  {
   "cell_type": "markdown",
   "metadata": {},
   "source": [
    "Calculate a crystallographic map containing the indexation results for further manipulation"
   ]
  },
  {
   "cell_type": "code",
   "execution_count": null,
   "metadata": {},
   "outputs": [],
   "source": [
    "cryst_map = indexation.get_crystallographic_map()"
   ]
  },
  {
   "cell_type": "markdown",
   "metadata": {},
   "source": [
    "Plot indexed peaks on top of the data using the template library from above to generate peak positions."
   ]
  },
  {
   "cell_type": "code",
   "execution_count": null,
   "metadata": {},
   "outputs": [],
   "source": [
    "indexation.plot_best_matching_results_on_signal(test_data, template_library, permanent_markers=False)"
   ]
  },
  {
   "cell_type": "markdown",
   "metadata": {},
   "source": [
    "Obtain an orientation map from the matching results, by selecting the top matching result, and plot it."
   ]
  },
  {
   "cell_type": "code",
   "execution_count": null,
   "metadata": {},
   "outputs": [],
   "source": [
    "cryst_map = indexation.get_crystallographic_map()\n",
    "ori_map = cryst_map.get_orientation_map()\n",
    "ori_map.plot(cmap='inferno')"
   ]
  },
  {
   "cell_type": "markdown",
   "metadata": {},
   "source": [
    "Plot the match rate as a metric for mapping success."
   ]
  },
  {
   "cell_type": "code",
   "execution_count": null,
   "metadata": {},
   "outputs": [],
   "source": [
    "cryst_map.get_metric_map('match_rate').plot()"
   ]
  },
  {
   "cell_type": "markdown",
   "metadata": {},
   "source": [
    "# <a id='rot'></a>  4. Rotation Conventions"
   ]
  },
  {
   "cell_type": "markdown",
   "metadata": {},
   "source": [
    "To illustrate the rotation convention used, diffraction patterns for two orientations \"f1\" and \"f2\" are plotted below."
   ]
  },
  {
   "cell_type": "code",
   "execution_count": null,
   "metadata": {},
   "outputs": [],
   "source": [
    "f1 = (90, -3, -90)\n",
    "f2 = (90, +3, -90)\n",
    "sample_lib = StructureLibrary(['Si'], [si], [[f1, f2]])\n",
    "diff_gen = pxm.DiffractionLibraryGenerator(ediff)\n",
    "library = diff_gen.get_diffraction_library(sample_lib,\n",
    "                                           calibration=1 / 64,\n",
    "                                           reciprocal_radius=0.8,\n",
    "                                           half_shape=(64,64),\n",
    "                                           with_direct_beam=False)\n",
    "\n",
    "pattern = library.get_library_entry(phase='Si', angle=f1)['Sim'].as_signal(pattern_size, 0.03, 1)\n",
    "plt.figure('f1')\n",
    "plt.imshow(pattern, cmap='viridis', vmax=0.1)\n",
    "\n",
    "pattern = library.get_library_entry(phase='Si', angle=f2)['Sim'].as_signal(pattern_size, 0.03, 1)\n",
    "plt.figure('f2')\n",
    "plt.imshow(pattern, cmap='viridis', vmax=0.1)"
   ]
  },
  {
   "cell_type": "code",
   "execution_count": null,
   "metadata": {},
   "outputs": [],
   "source": []
  }
 ],
 "metadata": {
  "anaconda-cloud": {},
  "kernelspec": {
   "display_name": "Python 3",
   "language": "python",
   "name": "python3"
  },
  "language_info": {
   "codemirror_mode": {
    "name": "ipython",
    "version": 3
   },
   "file_extension": ".py",
   "mimetype": "text/x-python",
   "name": "python",
   "nbconvert_exporter": "python",
   "pygments_lexer": "ipython3",
   "version": "3.7.2"
  }
 },
 "nbformat": 4,
 "nbformat_minor": 2
}
